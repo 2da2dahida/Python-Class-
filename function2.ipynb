{
 "cells": [
  {
   "cell_type": "code",
   "execution_count": 14,
   "metadata": {},
   "outputs": [
    {
     "name": "stdout",
     "output_type": "stream",
     "text": [
      "hello world\n"
     ]
    }
   ],
   "source": [
    "print('hello world')"
   ]
  },
  {
   "cell_type": "code",
   "execution_count": 15,
   "metadata": {},
   "outputs": [],
   "source": [
    "# 함수의 4가지 형태\n",
    "\n",
    "# 1 input 과 output 모두 있는 형태 (가장 많이 사용되는 형태) \n",
    "# 2 input 과 output 모두 없는 형태 \n",
    "# 3 input 만 있는 형태 \n",
    "# 4 output 만 있는 형태 \n"
   ]
  },
  {
   "cell_type": "code",
   "execution_count": 16,
   "metadata": {},
   "outputs": [
    {
     "name": "stdout",
     "output_type": "stream",
     "text": [
      "5\n"
     ]
    }
   ],
   "source": [
    "# 1 input 과 output 모두 있는 형태 (가장 많이 사용되는 형태) \n",
    "\n",
    "def add(a,b): # a와 b라는 입력\n",
    "    return a+b  # return 이라는 키워드가 있으면 output 이 존재 한다.\n",
    "\n",
    "print(add(1,4))"
   ]
  },
  {
   "cell_type": "code",
   "execution_count": 17,
   "metadata": {},
   "outputs": [
    {
     "name": "stdout",
     "output_type": "stream",
     "text": [
      "hello\n"
     ]
    }
   ],
   "source": [
    "# 2 input 과 output 모두 없는 형태 \n",
    "\n",
    "def say():  #괄호안에 뭐가 있어야 input인데 없음.  \n",
    "    print(\"hello\")  #return이라는 글씨가 없으면 아웃풋이 없다. \n",
    "\n",
    "say()  #하지만 hello 표시되는 이유는 뭔가 찍는 기능만 있는...."
   ]
  },
  {
   "cell_type": "code",
   "execution_count": 18,
   "metadata": {},
   "outputs": [
    {
     "name": "stdout",
     "output_type": "stream",
     "text": [
      "홍길동 님 환영합니다.\n"
     ]
    }
   ],
   "source": [
    "# 3 input 만 있는 형태 \n",
    "\n",
    "def inputonly(name):\n",
    "    print(name, \"님 환영합니다.\" )  #return이 없으면 output 은 없는 것이다. \n",
    "\n",
    "inputonly(\"홍길동\")  #아웃풋의 기능으로 찍는 것이 아니라. 호출만 하는 기능..# 리턴이있으면 그자리에 옴.."
   ]
  },
  {
   "cell_type": "code",
   "execution_count": 19,
   "metadata": {},
   "outputs": [
    {
     "data": {
      "text/plain": [
       "'hello world'"
      ]
     },
     "execution_count": 19,
     "metadata": {},
     "output_type": "execute_result"
    }
   ],
   "source": [
    "# 4 output 만 있는 형태 \n",
    "\n",
    "def outputonly():\n",
    "    return \"hello world\"\n",
    "\n",
    "outputonly()"
   ]
  },
  {
   "cell_type": "code",
   "execution_count": 20,
   "metadata": {},
   "outputs": [
    {
     "name": "stdout",
     "output_type": "stream",
     "text": [
      "3\n",
      "6\n"
     ]
    }
   ],
   "source": [
    "def sumfuction(a,b):\n",
    "    return a+b\n",
    "\n",
    "print(sumfuction(1,2))\n",
    "\n",
    "def sumfuction2(a,b,c):  #이렇게 여러개 만들려면 불합리해서 알아서 되도록 하는 법이 있다. \n",
    "    return a+b+c\n",
    "\n",
    "print(sumfuction2(1,2,3))"
   ]
  },
  {
   "cell_type": "code",
   "execution_count": 21,
   "metadata": {},
   "outputs": [
    {
     "name": "stdout",
     "output_type": "stream",
     "text": [
      "3\n",
      "6\n"
     ]
    }
   ],
   "source": [
    "# 몇 백개의 역할을 하나로..\n",
    "# 함수의 인수의 갯수가 일정하지 않을 경우 처리 방법 특징\n",
    "def sumfuction(*args):              # *arge 하나의 함수로 모든 수를 ... 가능..\n",
    "    result = 0\n",
    "    for i in args:           \n",
    "        result = result + i\n",
    "    return result\n",
    "\n",
    "print(sumfuction(1,2))  \n",
    "print(sumfuction(1,2,3))"
   ]
  },
  {
   "cell_type": "code",
   "execution_count": 22,
   "metadata": {},
   "outputs": [
    {
     "name": "stdout",
     "output_type": "stream",
     "text": [
      "(5, 6)\n",
      "5\n",
      "6\n"
     ]
    }
   ],
   "source": [
    "# 함수의 결과 값은 언제나 '하나'라는 특징\n",
    "\n",
    "def add_mul(a,b):\n",
    "    return a + b, a*b  \n",
    "\n",
    "print(add_mul(2,3)) #더한값, 곱한 값 두개가 들어간 튜플,,, 결과값 하나인 것.\n",
    "\n",
    "res1, res2 = add_mul(2,3)  #하나의 튜플\n",
    "print(res1)\n",
    "print(res2)"
   ]
  },
  {
   "cell_type": "code",
   "execution_count": 23,
   "metadata": {},
   "outputs": [
    {
     "name": "stdout",
     "output_type": "stream",
     "text": [
      "5\n"
     ]
    }
   ],
   "source": [
    "def add_mul(a,b):\n",
    "    return a + b \n",
    "    return a*b  #이렇게 해보면,, 색이 바뀌었는.. 곱하기는 사라짐..  #곱하기 결과는 수행되지 않는다.\n",
    "                #return을 만나면 함수에서 나간다는 특징이 있다. \n",
    "\n",
    "res = add_mul(2,3)\n",
    "print(res)  \n"
   ]
  },
  {
   "cell_type": "code",
   "execution_count": 24,
   "metadata": {},
   "outputs": [
    {
     "ename": "SyntaxError",
     "evalue": "invalid syntax (535799089.py, line 4)",
     "output_type": "error",
     "traceback": [
      "\u001b[1;36m  File \u001b[1;32m\"C:\\Users\\EZEN\\AppData\\Local\\Temp\\ipykernel_14856\\535799089.py\"\u001b[1;36m, line \u001b[1;32m4\u001b[0m\n\u001b[1;33m    if name == \"austin\"\u001b[0m\n\u001b[1;37m                       ^\u001b[0m\n\u001b[1;31mSyntaxError\u001b[0m\u001b[1;31m:\u001b[0m invalid syntax\n"
     ]
    }
   ],
   "source": [
    "# return 의 마지막 특징\n",
    "\n",
    "def sayhello(name):\n",
    "    if name == \"austin\"\n",
    "    return\n",
    "    print(\"Hello\", name)\n",
    "\n",
    "sayhello(\"nick\")\n",
    "sayhello(\"austin\")\n",
    "sayhello(\"jane\")"
   ]
  },
  {
   "cell_type": "code",
   "execution_count": null,
   "metadata": {},
   "outputs": [
    {
     "name": "stdout",
     "output_type": "stream",
     "text": [
      "내 이름은 홍길동 이고 나이는  21 이며 남성입니다.\n",
      "내 이름은 이몽룡 이고 나이는  14 이며 남성입니다.\n",
      "내 이름은 성춘향 이고 나이는  13 이며 "
     ]
    }
   ],
   "source": [
    "# 매개변수에 미리 초기값을 설정하는 특징\n",
    "\n",
    "def sayname(name, age, man=True):\n",
    "    print(\"내 이름은\" , name , \"이고 나이는 \" , age, \"이며\" , end=\" \")\n",
    "    if man:\n",
    "        print(\"남성입니다.\")\n",
    "    else:\n",
    "        (\"여성입니다.\")\n",
    "\n",
    "\n",
    "sayname(\"홍길동\" , 21)\n",
    "sayname(\"이몽룡\", 14, True)\n",
    "sayname(\"성춘향\", 13, False)"
   ]
  },
  {
   "cell_type": "code",
   "execution_count": null,
   "metadata": {},
   "outputs": [
    {
     "name": "stdout",
     "output_type": "stream",
     "text": [
      "나의 이름은 홍길동이고 나이는 18입니다.\n"
     ]
    }
   ],
   "source": [
    "# 출력하는 방법 - f스트링으로 출력하는 방법\n",
    "name = \"홍길동\"\n",
    "age = 18\n",
    "print(f\"나의 이름은 {name}이고 나이는 {age}입니다.\")\n"
   ]
  },
  {
   "cell_type": "code",
   "execution_count": null,
   "metadata": {},
   "outputs": [
    {
     "name": "stdout",
     "output_type": "stream",
     "text": [
      "1\n"
     ]
    }
   ],
   "source": [
    "# 함수 안에서의 변수 영향 범위    - 전역변수/지역변수 global/local variable\n",
    "\n",
    "a = 1\n",
    "\n",
    "def varexam(a):  #여기 a랑 print a는 다른 함수인 거임.\n",
    "    a += 1    # 함수 안에서의 변수값은 함수 밖에는 전혀 영향을 미치지 않는다. \n",
    "\n",
    "varexam(a)\n",
    "print(a)"
   ]
  },
  {
   "cell_type": "code",
   "execution_count": null,
   "metadata": {},
   "outputs": [
    {
     "name": "stdout",
     "output_type": "stream",
     "text": [
      "2\n",
      "1\n"
     ]
    }
   ],
   "source": [
    "a = 1\n",
    "\n",
    "def varexam(a):  \n",
    "    a += 1    # 함수 안에서의 변수값은 함수 밖에는 전혀 영향을 미치지 않는다. \n",
    "    return a  # 가지고 나간다. \n",
    "\n",
    "print(varexam(a)) #가지고 나온 걸 찍으려면 print 붙여준다. \n",
    "print(a)"
   ]
  },
  {
   "cell_type": "code",
   "execution_count": null,
   "metadata": {},
   "outputs": [
    {
     "name": "stdout",
     "output_type": "stream",
     "text": [
      "2\n"
     ]
    }
   ],
   "source": [
    "a = 1\n",
    "\n",
    "def varexam(): \n",
    "    global a   #안좋은 방법 , 변수 a를 함수 안에서 선언하면 전역 변수가 된다. \n",
    "    a = a + 1 \n",
    "\n",
    "varexam()\n",
    "print(a)"
   ]
  },
  {
   "cell_type": "code",
   "execution_count": null,
   "metadata": {},
   "outputs": [
    {
     "name": "stdout",
     "output_type": "stream",
     "text": [
      "2\n",
      "1\n"
     ]
    }
   ],
   "source": [
    "a = 1\n",
    "\n",
    "def varexam(b):  \n",
    "    b += 1     \n",
    "    return b  #지역변수가 정답? 가지고 나와서... 하지만 전역변수도아예안쓰는건아니다.\n",
    "\n",
    "print(varexam(a))\n",
    "print(a)"
   ]
  },
  {
   "cell_type": "code",
   "execution_count": null,
   "metadata": {},
   "outputs": [
    {
     "name": "stdout",
     "output_type": "stream",
     "text": [
      "홀수입니다.\n",
      "짝수입니다.\n"
     ]
    }
   ],
   "source": [
    "def isodd(no):\n",
    "    if no % 2 ==0:\n",
    "        print(\"짝수입니다.\")\n",
    "    else:\n",
    "        print(\"홀수입니다.\")\n",
    "\n",
    "isodd(3)\n",
    "isodd(4)"
   ]
  },
  {
   "cell_type": "code",
   "execution_count": null,
   "metadata": {},
   "outputs": [
    {
     "name": "stdout",
     "output_type": "stream",
     "text": [
      "average : 2.0\n",
      "average : 3.0\n"
     ]
    }
   ],
   "source": [
    "\n",
    "#입력으로 들어오는 모든 수의 평균 값을 계산해 주는 함수를 작성해 보자.\n",
    "#avgnum(1,2,3)\n",
    "#2\n",
    "#avgnum(1,2,3,4,5)\n",
    "#3\n",
    "\n",
    "\n",
    "avgnum = [1,2,3]\n",
    "result = sum(avgnum)  #result \n",
    "print(f\"average : {result / len(avgnum)}\")\n",
    "\n",
    "avgnum2 = [1,2,3,4,5]\n",
    "result = sum(avgnum2)\n",
    "print(f\"average : {result / len(avgnum2)}\")\n"
   ]
  },
  {
   "cell_type": "code",
   "execution_count": null,
   "metadata": {},
   "outputs": [
    {
     "name": "stdout",
     "output_type": "stream",
     "text": [
      "3\n",
      "6\n",
      "0.0\n",
      "6\n"
     ]
    }
   ],
   "source": [
    "#평균구하는거 \n",
    "#(이건 합계)\n",
    "def sumfunction(*args):  \n",
    "    result = 0\n",
    "    for i in args:\n",
    "        result + 1\n",
    "    return result\n",
    "\n",
    "print(sumfuction(1,2))\n",
    "print(sumfuction(1,2,3))\n",
    "\n",
    "\n",
    "def avgnum(*args):  \n",
    "    result = 0\n",
    "    for i in args:\n",
    "        result + 1\n",
    "    return result / len(args)  #나갈때 나눠서 나가는것만추가하면 평균... \n",
    "\n",
    "print(avgnum(1,2))\n",
    "print(sumfuction(1,2,3))"
   ]
  },
  {
   "cell_type": "code",
   "execution_count": 3,
   "metadata": {},
   "outputs": [],
   "source": [
    "#파일 읽고/쓰기 \n",
    "\n",
    "\n",
    "#.CSV xlsx / "
   ]
  },
  {
   "cell_type": "code",
   "execution_count": 4,
   "metadata": {},
   "outputs": [],
   "source": [
    "#새로운 txt 파일 만들기\n",
    "\n",
    "f = open(\"newfile.txt\", \"w\")\n",
    "f.close()"
   ]
  },
  {
   "cell_type": "code",
   "execution_count": null,
   "metadata": {},
   "outputs": [],
   "source": [
    "#파일을 새로 만들어서내용 넣기\n",
    "\n",
    "f = open(\"newfile2.txt\", \"w\")  # 새 파일 만들어서 열고\n",
    "\n",
    "for i in range(1,11):  #파일에 여러 데이터 넣기\n",
    "    data = \" %d line \\n\" % i \n",
    "    f.write(data)\n",
    "\n",
    "\n",
    "f.close()        #파일 닫기"
   ]
  },
  {
   "cell_type": "code",
   "execution_count": 5,
   "metadata": {},
   "outputs": [
    {
     "name": "stdout",
     "output_type": "stream",
     "text": [
      " 1 line \n",
      "\n",
      " 2 line \n",
      "\n",
      " 3 line \n",
      "\n",
      " 4 line \n",
      "\n",
      " 5 line \n",
      "\n",
      " 6 line \n",
      "\n",
      " 7 line \n",
      "\n",
      " 8 line \n",
      "\n",
      " 9 line \n",
      "\n",
      " 10 line \n",
      "\n"
     ]
    }
   ],
   "source": [
    "# 파일 \n",
    "\n",
    "f = open(\"newfile2.txt\",\"r\")\n",
    "\n",
    "while True:\n",
    "    line = f.readline()\n",
    "    if not line: break\n",
    "    print(line)\n",
    "\n",
    "f.close()"
   ]
  },
  {
   "cell_type": "code",
   "execution_count": 6,
   "metadata": {},
   "outputs": [
    {
     "name": "stdout",
     "output_type": "stream",
     "text": [
      "3\n",
      "5\n",
      "1\n",
      "3\n"
     ]
    }
   ],
   "source": [
    "\n",
    "#객체지향프로그래밍 OOP\n",
    "#object oriented programming\n",
    "\n",
    "\n",
    "#클래스 class\n",
    "#클래스로 객체를 생성한다. \n",
    "\n",
    "#C언어는 객체지향 언어가 아니어도 충분히 오랜시간동안 사랑을 받아온 언어이다. 따라서 객체지향이\n",
    "#프로그래밍에서의 필수 조건은 아니다. 즉, 반드시, 필요한 개념은 아니다. \n",
    "\n",
    "#하지만. 객체지향을 사용하면 상당히 얻을 수 있는 유익이 크다. \n",
    "\n",
    "result1 = 0\n",
    "result2 = 0\n",
    "\n",
    "def add1(num):\n",
    "    global result1\n",
    "    result1 += num\n",
    "    return result1\n",
    "\n",
    "def add2(num):\n",
    "    global result2\n",
    "    result2 += num\n",
    "    return result2\n",
    "\n",
    "print(add1(3))\n",
    "print(add1(2))\n",
    "print(add2(1))\n",
    "print(add2(2))\n"
   ]
  },
  {
   "cell_type": "code",
   "execution_count": null,
   "metadata": {},
   "outputs": [],
   "source": [
    "class Cal:\n",
    "\n",
    "    def __init__(self):  # 생성자\n",
    "        self.result = 0\n",
    "\n",
    "    def add(self,num):   # 매서드 (함수가 아닌 매서드)\n",
    "        self.result += num\n",
    "        return self.result\n",
    "\n",
    "cal1 = Cal()\n",
    "cal2 = Cal()\n",
    "cal3 = Cal()\n",
    "\n",
    "print(cal1.add(3))\n",
    "print(cal1.add(2))\n",
    "print()\n",
    "print(cal2.add(1))\n",
    "print(cal2.add(2))\n",
    "print()\n",
    "print(cal3.add(1))\n",
    "print(cal3.add(2))\n",
    "print(cal3.add(3))"
   ]
  },
  {
   "cell_type": "code",
   "execution_count": null,
   "metadata": {},
   "outputs": [
    {
     "name": "stdout",
     "output_type": "stream",
     "text": [
      "3\n",
      "5\n",
      "2\n",
      "6\n"
     ]
    }
   ],
   "source": [
    "class Cal:\n",
    "    def add(self, first, second):\n",
    "        result = first + second\n",
    "        return result\n",
    "        \n",
    "    def mul(self, first, second):\n",
    "        result = first * second\n",
    "        return result\n",
    "\n",
    "\n",
    "cal1 = Cal()\n",
    "cal2 = Cal()\n",
    "\n",
    "print(cal1.add(1,2))\n",
    "print(cal2.add(2,3))\n",
    "\n",
    "print(cal1.mul(1,2))\n",
    "print(cal2.mul(2,3))"
   ]
  },
  {
   "cell_type": "code",
   "execution_count": null,
   "metadata": {},
   "outputs": [
    {
     "name": "stdout",
     "output_type": "stream",
     "text": [
      "3\n",
      "2\n",
      "7\n",
      "12\n"
     ]
    }
   ],
   "source": [
    "class Cal:\n",
    "    def setdata(self, first, second):\n",
    "        self.first = first\n",
    "        self.second = second\n",
    "\n",
    "\n",
    "    def add(self):\n",
    "        result = self.first + self.second\n",
    "        return result\n",
    "        \n",
    "    def mul(self):\n",
    "        result = self.first * self.second\n",
    "        return result\n",
    "\n",
    "\n",
    "\n",
    "cal1 = Cal()\n",
    "cal1.setdata(1,2)\n",
    "print(cal1.add())    #1\n",
    "print(cal1.mul())    #2\n",
    "\n",
    "\n",
    "cal2 = Cal()\n",
    "cal2.setdata(3,4)\n",
    "print(cal2.add())  #3\n",
    "print(cal2.mul())  #4"
   ]
  },
  {
   "cell_type": "code",
   "execution_count": null,
   "metadata": {},
   "outputs": [],
   "source": [
    "# 생성자 Constructor\n",
    "class Cal:\n",
    "    def __init__(self, first, second):\n",
    "        self.first = first\n",
    "        self.second = second\n",
    "\n",
    "    \n",
    "\n",
    "\n",
    "    def add(self):\n",
    "        result = self.first + self.second\n",
    "        return result\n",
    "        \n",
    "    def mul(self):\n",
    "        result = self.first * self.second\n",
    "        return result\n",
    "\n",
    "\n",
    "\n",
    "cal1 = Cal(1,2)\n",
    "#cal1.setdat(1,2)\n",
    "print(cal1.add())   \n",
    "print(cal1.mul())   \n",
    "\n",
    "\n",
    "cal2 = Cal(3,4)\n",
    "#cal2.setdata(3,4)\n",
    "print(cal2.add()) \n",
    "print(cal2.mul()) \n",
    "\n",
    "#생성자는 클래스로 객체를 생성할 떄 자동으로 호출되는 매서드로 파이썬에서는 __init__으로 생성자를 만든다.\n",
    "\n"
   ]
  },
  {
   "cell_type": "code",
   "execution_count": null,
   "metadata": {},
   "outputs": [],
   "source": [
    "#상속 inheritance\n",
    "#상속은 물려받는다는 뜻으로 현실세계의 상속과 비슷한 개념이다. 상속은 객체지향 프로그래밍에서 \n",
    "#아주 중요한 요소이다. \n",
    "\n",
    "#특히 파이썬은 여러 클래스에서 한 번에 상속(다중 상속)을 받을 수 있는 특징이 있다. \n",
    "\n",
    "#일반적으로 상속을 받은 자식 클래스가 부모 클래스보다많은 기능을 구현하게 된다. (부모기능 + 본인기능)\n"
   ]
  },
  {
   "cell_type": "code",
   "execution_count": null,
   "metadata": {},
   "outputs": [],
   "source": [
    "#매서드 오버라이딩 mathod overriding\n",
    "\n",
    "# 부모가 가진 매서드명과 동일한 이름으로 자식 클래스에 구현을 하게되면 부모의 매서드가 실행되지 않고 자식에 #구현된 매서드가 동작을 하게 된다. \n",
    "\n",
    "#보통 부모 매서드의 기능을 보완거나 확장하는 용도로 많이 사용 된다.\n",
    "\n",
    "#매서드 오버로딩 mathhod overloading"
   ]
  },
  {
   "cell_type": "code",
   "execution_count": 26,
   "metadata": {},
   "outputs": [
    {
     "data": {
      "text/plain": [
       "'계산 불가입니다.'"
      ]
     },
     "execution_count": 26,
     "metadata": {},
     "output_type": "execute_result"
    }
   ],
   "source": [
    "# 상속 \n",
    "class Cal:\n",
    "    def __init__(self, first, second):\n",
    "        self.first = first\n",
    "        self.second = second\n",
    "\n",
    "    def add(self):\n",
    "        result = self.first + self.second\n",
    "        return result\n",
    "\n",
    "    def mul(self):\n",
    "        result = self.first * self.second\n",
    "        return result\n",
    "\n",
    "    def div(self):\n",
    "        result = self.first / self.second\n",
    "        return result\n",
    "\n",
    "\n",
    "class MoreCal(Cal):\n",
    "    def sub(self):\n",
    "        result = self.first - self.second\n",
    "        return result\n",
    "\n",
    "    def div(self):\n",
    "        if self.second == 0:\n",
    "            return \"계산 불가입니다.\"\n",
    "        else:\n",
    "            result = self.first / self.second\n",
    "            return result\n",
    "\n",
    "cal5 = MoreCal(2,0)\n",
    "# cal3.add()\n",
    "cal5.div()\n"
   ]
  },
  {
   "cell_type": "code",
   "execution_count": 27,
   "metadata": {},
   "outputs": [
    {
     "ename": "SyntaxError",
     "evalue": "unmatched ')' (1044956648.py, line 13)",
     "output_type": "error",
     "traceback": [
      "\u001b[1;36m  File \u001b[1;32m\"C:\\Users\\EZEN\\AppData\\Local\\Temp\\ipykernel_14856\\1044956648.py\"\u001b[1;36m, line \u001b[1;32m13\u001b[0m\n\u001b[1;33m    print(cal1.add1,2))\u001b[0m\n\u001b[1;37m                      ^\u001b[0m\n\u001b[1;31mSyntaxError\u001b[0m\u001b[1;31m:\u001b[0m unmatched ')'\n"
     ]
    }
   ],
   "source": [
    "\n",
    "#매서드 오버로딩 mathhod overloading  (-파이썬은 오버로딩 지원하지 않음..자바에서 지원)\n",
    "\n",
    "class Cal():\n",
    "    def add(a,b):\n",
    "        return a+b\n",
    "    def add(a,b,c):\n",
    "        return a+b+c\n",
    "    def add(a,b,c,d):\n",
    "        return a+b+c+d\n",
    "\n",
    "csl1 = Cal()\n",
    "\n",
    "print(cal1.add1,2))\n",
    "print(cal1.add1,2,3))\n",
    "print(cal1.add1,2,3,4))\n"
   ]
  },
  {
   "cell_type": "code",
   "execution_count": null,
   "metadata": {},
   "outputs": [],
   "source": [
    "#예외처리 exception\n",
    "\n",
    "#오류 ,에러가 발생했을 때 적절하게 상황에 따라 처리해 주는 것을 예외처리 라고 한다.\n",
    "\n",
    "#try : \n",
    "      # 에러가 발생할 수도있을 것 같은 구문. \n",
    "#exception:\n",
    "    #에러가 발생했을ㄷ때 적용되는 구문\n"
   ]
  },
  {
   "cell_type": "code",
   "execution_count": 34,
   "metadata": {},
   "outputs": [
    {
     "name": "stdout",
     "output_type": "stream",
     "text": [
      "에러가 발생했습니다.\n"
     ]
    }
   ],
   "source": [
    "\n",
    "try:\n",
    "    4 / 0\n",
    "\n",
    "except:\n",
    "    print(\"에러가 발생했습니다.\")\n",
    "\n"
   ]
  },
  {
   "cell_type": "code",
   "execution_count": 44,
   "metadata": {},
   "outputs": [
    {
     "name": "stdout",
     "output_type": "stream",
     "text": [
      "에러가 발생했습니다. \n",
      "프로그램을 종료합니다. \n"
     ]
    }
   ],
   "source": [
    "try:  #에러가 발생할 수도 있을 것 같은 구문 \n",
    "    print(4 / 0)\n",
    "except:  #에러1 발생했을때 적용되는 구문\n",
    "    print(\"에러가 발생했습니다. \")\n",
    "\n",
    "    \n",
    "finally:\n",
    "    print(\"프로그램을 종료합니다. \") #에러발생유무와 상관없이 항상 마지막에 실행"
   ]
  },
  {
   "cell_type": "code",
   "execution_count": null,
   "metadata": {},
   "outputs": [],
   "source": [
    "#**try:**\n",
    "\n",
    "#**에러가 발생할수도 있을것 같은 구문**\n",
    "\n",
    "#**except:**\n",
    "\n",
    "#**에러1 발생했을때 적용되는 구문**\n",
    "\n",
    "#**except:**\n",
    "\n",
    "#**에러2 발생했을때 적용되는 구문**"
   ]
  },
  {
   "cell_type": "code",
   "execution_count": 43,
   "metadata": {},
   "outputs": [
    {
     "name": "stdout",
     "output_type": "stream",
     "text": [
      "에러가 발생했습니다.\n",
      "프로그램을 종료합니다.\n"
     ]
    }
   ],
   "source": [
    "try:\n",
    "    print(4 / 0)\n",
    "except:\n",
    "    print(\"에러가 발생했습니다.\")\n",
    "finally:\n",
    "    print(\"프로그램을 종료합니다.\")"
   ]
  },
  {
   "cell_type": "code",
   "execution_count": 42,
   "metadata": {},
   "outputs": [
    {
     "name": "stdout",
     "output_type": "stream",
     "text": [
      "예외가 발생하였습니다.\n"
     ]
    }
   ],
   "source": [
    "try:\n",
    "    a = [1,2]\n",
    "    print(a[3])\n",
    "except:\n",
    "    print(\"예외가 발생하였습니다.\")"
   ]
  },
  {
   "cell_type": "code",
   "execution_count": 51,
   "metadata": {},
   "outputs": [
    {
     "name": "stdout",
     "output_type": "stream",
     "text": [
      "찾으시는 인덱스가 없습니다.\n"
     ]
    }
   ],
   "source": [
    "try:\n",
    "    a = [1,2]\n",
    "    print(a[2])\n",
    "    print(4/2)\n",
    "except ZeroDivisionError:\n",
    "    print(\"0으로 나누면 예외가 발생됩니다.\")\n",
    "except IndexError:\n",
    "    print(\"찾으시는 인덱스가 없습니다.\")\n",
    "\n",
    "\n",
    " "
   ]
  },
  {
   "cell_type": "code",
   "execution_count": 50,
   "metadata": {},
   "outputs": [
    {
     "name": "stdout",
     "output_type": "stream",
     "text": [
      "1\n",
      "0으로 나누면 예외가 발생됩니다.\n"
     ]
    }
   ],
   "source": [
    "   try:\n",
    "    a = [1,2]\n",
    "    print(a[0])\n",
    "    print(4/0)\n",
    "except ZeroDivisionError:\n",
    "    print(\"0으로 나누면 예외가 발생됩니다.\")\n",
    "except IndexError:\n",
    "    print(\"찾으시는 인덱스가 없습니다.\")"
   ]
  },
  {
   "cell_type": "code",
   "execution_count": 52,
   "metadata": {},
   "outputs": [
    {
     "name": "stdout",
     "output_type": "stream",
     "text": [
      "1\n",
      "division by zero\n"
     ]
    }
   ],
   "source": [
    "try:\n",
    "    a = [1,2]\n",
    "    print(a[0])\n",
    "    print(4/0)\n",
    "except ZeroDivisionError as e:\n",
    "    print(e)\n",
    "except IndexError as e:\n",
    "    print(e)\n",
    "\n"
   ]
  },
  {
   "cell_type": "code",
   "execution_count": 54,
   "metadata": {},
   "outputs": [
    {
     "name": "stdout",
     "output_type": "stream",
     "text": [
      "list index out of range\n"
     ]
    }
   ],
   "source": [
    "try:\n",
    "    a = [1,2]\n",
    "    print(a[2])\n",
    "    print(4/0)\n",
    "except (ZeroDivisionError , IndexError) as e:\n",
    "    print(e)\n",
    "\n"
   ]
  },
  {
   "cell_type": "code",
   "execution_count": null,
   "metadata": {},
   "outputs": [],
   "source": [
    "#try ~ except\n",
    "#try ~ except ~ finally\n",
    "#try ~ except ~ finally\n",
    "#try ~ except ~ else ~  finally\n"
   ]
  },
  {
   "cell_type": "code",
   "execution_count": 60,
   "metadata": {},
   "outputs": [
    {
     "name": "stdout",
     "output_type": "stream",
     "text": [
      "no problem\n",
      "program end\n"
     ]
    }
   ],
   "source": [
    "try:\n",
    "    4 / 2\n",
    "except:  #문제가 있을 때만 실행되는 구문\n",
    "    print(\"exception !!!\")\n",
    "else:  #문제가 없을 때만 실행되는 구문\n",
    "    print(\"no problem\")\n",
    "\n",
    "finally: #언제나 항상 마지막에 실행되는 구문\n",
    "    print(\"program end\")"
   ]
  },
  {
   "cell_type": "code",
   "execution_count": 63,
   "metadata": {},
   "outputs": [],
   "source": [
    "#예외 회피\n",
    "#예외가 발생했을 떄에 무시한다. \n",
    "\n",
    "try:\n",
    "    4 / 0\n",
    "except:\n",
    "    pass"
   ]
  },
  {
   "cell_type": "code",
   "execution_count": 64,
   "metadata": {},
   "outputs": [
    {
     "ename": "NotImplementedError",
     "evalue": "",
     "output_type": "error",
     "traceback": [
      "\u001b[1;31m---------------------------------------------------------------------------\u001b[0m",
      "\u001b[1;31mNotImplementedError\u001b[0m                       Traceback (most recent call last)",
      "\u001b[1;32m~\\AppData\\Local\\Temp\\ipykernel_14856\\1823606142.py\u001b[0m in \u001b[0;36m<module>\u001b[1;34m\u001b[0m\n\u001b[0;32m      8\u001b[0m \u001b[1;33m\u001b[0m\u001b[0m\n\u001b[0;32m      9\u001b[0m \u001b[0mbird\u001b[0m \u001b[1;33m=\u001b[0m \u001b[0mBird\u001b[0m\u001b[1;33m(\u001b[0m\u001b[1;33m)\u001b[0m\u001b[1;33m\u001b[0m\u001b[1;33m\u001b[0m\u001b[0m\n\u001b[1;32m---> 10\u001b[1;33m \u001b[0mbird\u001b[0m\u001b[1;33m.\u001b[0m\u001b[0mfly\u001b[0m\u001b[1;33m(\u001b[0m\u001b[1;33m)\u001b[0m\u001b[1;33m\u001b[0m\u001b[1;33m\u001b[0m\u001b[0m\n\u001b[0m",
      "\u001b[1;32m~\\AppData\\Local\\Temp\\ipykernel_14856\\1823606142.py\u001b[0m in \u001b[0;36mfly\u001b[1;34m(self)\u001b[0m\n\u001b[0;32m      5\u001b[0m \u001b[1;32mclass\u001b[0m \u001b[0mBird\u001b[0m\u001b[1;33m:\u001b[0m\u001b[1;33m\u001b[0m\u001b[1;33m\u001b[0m\u001b[0m\n\u001b[0;32m      6\u001b[0m     \u001b[1;32mdef\u001b[0m \u001b[0mfly\u001b[0m\u001b[1;33m(\u001b[0m\u001b[0mself\u001b[0m\u001b[1;33m)\u001b[0m\u001b[1;33m:\u001b[0m\u001b[1;33m\u001b[0m\u001b[1;33m\u001b[0m\u001b[0m\n\u001b[1;32m----> 7\u001b[1;33m         \u001b[1;32mraise\u001b[0m \u001b[0mNotImplementedError\u001b[0m\u001b[1;33m\u001b[0m\u001b[1;33m\u001b[0m\u001b[0m\n\u001b[0m\u001b[0;32m      8\u001b[0m \u001b[1;33m\u001b[0m\u001b[0m\n\u001b[0;32m      9\u001b[0m \u001b[0mbird\u001b[0m \u001b[1;33m=\u001b[0m \u001b[0mBird\u001b[0m\u001b[1;33m(\u001b[0m\u001b[1;33m)\u001b[0m\u001b[1;33m\u001b[0m\u001b[1;33m\u001b[0m\u001b[0m\n",
      "\u001b[1;31mNotImplementedError\u001b[0m: "
     ]
    }
   ],
   "source": [
    "#예외를 강제로 발생시키기\n",
    "#예외 상황이 아님에도 불구하고 강제로 예외 상황 만들기\n",
    "\n",
    "\n",
    "class Bird:\n",
    "    def fly(self):\n",
    "        raise NotImplementedError \n",
    "\n",
    "bird = Bird()\n",
    "bird.fly()        "
   ]
  },
  {
   "cell_type": "code",
   "execution_count": 67,
   "metadata": {},
   "outputs": [
    {
     "name": "stdout",
     "output_type": "stream",
     "text": [
      "3\n"
     ]
    }
   ],
   "source": [
    "class Calculator:\n",
    "    def __init__(self):\n",
    "        self.value = 0\n",
    "\n",
    "    def add(self, val):\n",
    "        self.value += val\n",
    "\n",
    "\n",
    "class UpgradeCalculator(Calculator):\n",
    "    def minus(self, val):\n",
    "        self.value -= val\n",
    "        \n",
    "cal = UpgradeCalculator()\n",
    "cal.add(10)\n",
    "cal.minus(7)\n",
    "\n",
    "print(cal.value) \n"
   ]
  },
  {
   "cell_type": "code",
   "execution_count": 73,
   "metadata": {},
   "outputs": [
    {
     "name": "stdout",
     "output_type": "stream",
     "text": [
      "110\n"
     ]
    }
   ],
   "source": [
    "class Calculator:\n",
    "    def __init__(self):\n",
    "        self.value = 0\n",
    "\n",
    "    def add(self, val):\n",
    "        self.value += val\n",
    "\n",
    "class MaxLimitCalculaor(Calculator):\n",
    "    def add(self, val):\n",
    "        if val >= 100:\n",
    "            pass\n",
    "        else:\n",
    "            self.value += val\n",
    "\n",
    "cal = MaxLimitCalculaor()\n",
    "cal.add(50)\n",
    "cal.add(60)\n",
    "\n",
    "print(cal.value)"
   ]
  },
  {
   "cell_type": "code",
   "execution_count": null,
   "metadata": {},
   "outputs": [],
   "source": [
    "class Calculator:\n",
    "    def __init__(self):\n",
    "        self.value = 0\n",
    "\n",
    "    def add(self, val):\n",
    "        self.value += val"
   ]
  }
 ],
 "metadata": {
  "kernelspec": {
   "display_name": "Python 3.9.13 ('base')",
   "language": "python",
   "name": "python3"
  },
  "language_info": {
   "codemirror_mode": {
    "name": "ipython",
    "version": 3
   },
   "file_extension": ".py",
   "mimetype": "text/x-python",
   "name": "python",
   "nbconvert_exporter": "python",
   "pygments_lexer": "ipython3",
   "version": "3.9.13"
  },
  "orig_nbformat": 4,
  "vscode": {
   "interpreter": {
    "hash": "7f7e32c5e102288e992346f63d8c1eb5d8460aac8c9e83a028ee1cbe79ab1c05"
   }
  }
 },
 "nbformat": 4,
 "nbformat_minor": 2
}
