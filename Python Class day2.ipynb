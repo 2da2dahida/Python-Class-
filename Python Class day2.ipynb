{
 "cells": [
  {
   "cell_type": "code",
   "execution_count": 1,
   "id": "1ec2b75c",
   "metadata": {},
   "outputs": [
    {
     "name": "stdout",
     "output_type": "stream",
     "text": [
      "hello world!!!\n"
     ]
    }
   ],
   "source": [
    "print(\"hello world!!!\")"
   ]
  },
  {
   "cell_type": "code",
   "execution_count": 9,
   "id": "2b9f2379",
   "metadata": {},
   "outputs": [
    {
     "name": "stdout",
     "output_type": "stream",
     "text": [
      "택시를 타자\n"
     ]
    }
   ],
   "source": [
    "money = True\n",
    "if money == True:\n",
    "    print(\"택시를 타자\")\n",
    "else:\n",
    "        print(\"걸어 가자\")"
   ]
  },
  {
   "cell_type": "code",
   "execution_count": 10,
   "id": "37dc1d98",
   "metadata": {},
   "outputs": [
    {
     "name": "stdout",
     "output_type": "stream",
     "text": [
      "택시를 타자\n"
     ]
    }
   ],
   "source": [
    "money = 8000\n",
    "\n",
    "if money >= 5000:\n",
    "    print(\"택시를 타자\")\n",
    "elif money >= 1000:\n",
    "    print(\"버스를 타자\")\n",
    "else:\n",
    "    print(\"걸어 가자\")"
   ]
  },
  {
   "cell_type": "code",
   "execution_count": 13,
   "id": "65533bd1",
   "metadata": {},
   "outputs": [
    {
     "name": "stdout",
     "output_type": "stream",
     "text": [
      "성적을 입력하세요70\n",
      "C학점 입니다.\n"
     ]
    }
   ],
   "source": [
    "#학생의 성적을 입력 받아서 \n",
    "#점수가 90 이상이면 \"A학점 입니다.\"\n",
    "#점수가 80 이상이면 \"B학점 입니다.\"\n",
    "#점수가 70 이상이면 \"C학점 입니다.\"\n",
    "#점수가 60 이상이면 \"D학점 입니다.\"\n",
    "#나머지는 모두 \"F학점 입니다.\"\n",
    "\n",
    "\n",
    "score =int(input(\"성적을 입력하세요\"))\n",
    "\n",
    "if score >=90:\n",
    "    print(\"A학점 입니다.\")\n",
    "elif score >=80:\n",
    "    print(\"B학점 입니다.\")\n",
    "elif score >=70:\n",
    "    print(\"C학점 입니다.\")\n",
    "elif score >=60:\n",
    "    print(\"D학점 입니다.\")\n",
    "else:\n",
    "    print(\"F학점\")\n"
   ]
  },
  {
   "cell_type": "code",
   "execution_count": 18,
   "id": "1825a353",
   "metadata": {},
   "outputs": [
    {
     "name": "stdout",
     "output_type": "stream",
     "text": [
      "10\n",
      "9\n",
      "8\n",
      "7\n",
      "6\n",
      "5\n",
      "4\n",
      "3\n",
      "2\n",
      "1\n",
      "0\n"
     ]
    }
   ],
   "source": [
    "#While\n",
    "\n",
    "no = 10\n",
    "\n",
    "while no >= 0:\n",
    "    print(no)\n",
    "    no = no - 1\n",
    "    "
   ]
  },
  {
   "cell_type": "code",
   "execution_count": 17,
   "id": "a6a78c6d",
   "metadata": {
    "scrolled": true
   },
   "outputs": [
    {
     "name": "stdout",
     "output_type": "stream",
     "text": [
      "1. 덧셈 / 2. 뺄셈 /3. 곱셈 / 4. 나눗셈 / 5. 종료\n",
      "1\n",
      "1. 덧셈 / 2. 뺄셈 /3. 곱셈 / 4. 나눗셈 / 5. 종료\n",
      "2\n",
      "1. 덧셈 / 2. 뺄셈 /3. 곱셈 / 4. 나눗셈 / 5. 종료\n",
      "3\n",
      "1. 덧셈 / 2. 뺄셈 /3. 곱셈 / 4. 나눗셈 / 5. 종료\n",
      "4\n",
      "1. 덧셈 / 2. 뺄셈 /3. 곱셈 / 4. 나눗셈 / 5. 종료\n",
      "5\n"
     ]
    }
   ],
   "source": [
    "#아래와 같은 경우 5종료를 선택할 때 까지 반복 횟수가 정확하지 않다. 따라서 while문 더 어울리는 \n",
    "#경우라고 할 수 있다.\n",
    "\n",
    "prompt = \"1. 덧셈 / 2. 뺄셈 /3. 곱셈 / 4. 나눗셈 / 5. 종료\"\n",
    "no = 0\n",
    "\n",
    "while no <= 4:\n",
    "    print(prompt)\n",
    "    no = int(input())\n",
    "    "
   ]
  },
  {
   "cell_type": "code",
   "execution_count": 20,
   "id": "d49208ee",
   "metadata": {},
   "outputs": [
    {
     "name": "stdout",
     "output_type": "stream",
     "text": [
      "0\n",
      "1\n",
      "2\n",
      "3\n",
      "4\n",
      "5\n",
      "6\n",
      "7\n",
      "8\n",
      "9\n",
      "10\n"
     ]
    }
   ],
   "source": [
    "#while 문의 경우에는 반복 횟수가 정확하지 않을 경우가 많기 때문에 조건에서 뿐만이 아니라 중간에\n",
    "#반복을 종료 시키는 방법도 필요하다. \n",
    "\n",
    "no = 0\n",
    "\n",
    "while True:\n",
    "    print(no)\n",
    "    no = no + 1\n",
    "    \n",
    "    if no > 10:\n",
    "        break #빠져나감"
   ]
  },
  {
   "cell_type": "code",
   "execution_count": 21,
   "id": "a23039ff",
   "metadata": {},
   "outputs": [
    {
     "name": "stdout",
     "output_type": "stream",
     "text": [
      "1683\n"
     ]
    }
   ],
   "source": [
    "#while 문을 사용하여 1부터 100까지의 수 중 3의 배수만의 합을 구하시오.\n",
    "\n",
    "no = 1\n",
    "sum = 0\n",
    "\n",
    "while no <= 100:\n",
    "    if no % 3 == 0:\n",
    "        sum = sum + no\n",
    "        \n",
    "    no = no + 1 #no += 1 \n",
    "    \n",
    "print(sum)\n"
   ]
  },
  {
   "cell_type": "code",
   "execution_count": null,
   "id": "5339b5a2",
   "metadata": {},
   "outputs": [],
   "source": [
    "# For 문\n",
    "\n",
    "#while은 반복 횟수가 정확하지 않을 경우 주로 사용되고 for 문은 반복횟수가 명확할 때 주로 사용된다.\n",
    "\n",
    "#for 변수명 in 리스트0:\n",
    "    #수행구문\n",
    "    "
   ]
  },
  {
   "cell_type": "code",
   "execution_count": 23,
   "id": "08191ff7",
   "metadata": {},
   "outputs": [
    {
     "name": "stdout",
     "output_type": "stream",
     "text": [
      "1\n",
      "2\n",
      "3\n",
      "4\n",
      "5\n",
      "6\n",
      "7\n",
      "8\n",
      "9\n",
      "10\n"
     ]
    }
   ],
   "source": [
    "for i in [1,2,3,4,5,6,7,8,9,10]:\n",
    "    print(i)"
   ]
  },
  {
   "cell_type": "code",
   "execution_count": 37,
   "id": "f084b1b2",
   "metadata": {},
   "outputs": [
    {
     "name": "stdout",
     "output_type": "stream",
     "text": [
      "1 번째 학생은 불합격입니다.\n",
      "90 번째 학생은 합격입니다.\n",
      "3 번째 학생은 불합격입니다.\n",
      "4 번째 학생은 불합격입니다.\n",
      "100 번째 학생은 합격입니다.\n"
     ]
    }
   ],
   "source": [
    "math = [80, 90, 70, 70, 100]\n",
    "\n",
    "j = 1\n",
    "for i in math:  \n",
    "    if i >= 90:\n",
    "      \n",
    "        print(i, \"번째 학생은 합격입니다.\")\n",
    "    else:\n",
    "        print(j, \"번째 학생은 불합격입니다.\")\n",
    "    j += 1"
   ]
  },
  {
   "cell_type": "code",
   "execution_count": 48,
   "id": "47dbb0ab",
   "metadata": {},
   "outputs": [
    {
     "name": "stdout",
     "output_type": "stream",
     "text": [
      "2\n",
      "4\n",
      "6\n",
      "8\n",
      "10\n"
     ]
    }
   ],
   "source": [
    "for i in [1,2,3,4,5,6,7,8,9,10]:\n",
    "    if i % 2 != 0:\n",
    "        continue\n",
    "    print(i)\n",
    "    "
   ]
  },
  {
   "cell_type": "code",
   "execution_count": null,
   "id": "995e27b3",
   "metadata": {},
   "outputs": [],
   "source": [
    "# range 함수\n",
    "\n",
    "# 숫자를 자동으로 생성해준다.  for문과 함께 사용되는 경우가 아주 많다."
   ]
  },
  {
   "cell_type": "code",
   "execution_count": null,
   "id": "7410361d",
   "metadata": {},
   "outputs": [],
   "source": [
    "print(range(1,11))\n",
    "range(1,11)"
   ]
  },
  {
   "cell_type": "code",
   "execution_count": 49,
   "id": "ce6eccec",
   "metadata": {},
   "outputs": [
    {
     "name": "stdout",
     "output_type": "stream",
     "text": [
      "1\n",
      "2\n",
      "3\n",
      "4\n",
      "5\n",
      "6\n",
      "7\n",
      "8\n",
      "9\n",
      "10\n"
     ]
    }
   ],
   "source": [
    "for i in range(1,11): #두번째 수는 미만\n",
    "    print(i)"
   ]
  },
  {
   "cell_type": "code",
   "execution_count": 54,
   "id": "a24cc33f",
   "metadata": {},
   "outputs": [
    {
     "name": "stdout",
     "output_type": "stream",
     "text": [
      "2\t4\t6\t8\t10\t12\t14\t16\t18\t\n",
      "3\t6\t9\t12\t15\t18\t21\t24\t27\t\n",
      "4\t8\t12\t16\t20\t24\t28\t32\t36\t\n",
      "5\t10\t15\t20\t25\t30\t35\t40\t45\t\n",
      "6\t12\t18\t24\t30\t36\t42\t48\t54\t\n",
      "7\t14\t21\t28\t35\t42\t49\t56\t63\t\n",
      "8\t16\t24\t32\t40\t48\t56\t64\t72\t\n",
      "9\t18\t27\t36\t45\t54\t63\t72\t81\t\n"
     ]
    }
   ],
   "source": [
    "# for 문으로 구구단 출력하기\n",
    "\n",
    "for i in range(2,10): #i는 단을 표현\n",
    "    for j in range(1,10):\n",
    "        print(i*j, end =\"\\t\")\n",
    "        \n",
    "    print()"
   ]
  },
  {
   "cell_type": "code",
   "execution_count": 57,
   "id": "d61d458f",
   "metadata": {},
   "outputs": [
    {
     "name": "stdout",
     "output_type": "stream",
     "text": [
      "2\t3\t4\t5\t6\t7\t8\t9\t\n",
      "4\t6\t8\t10\t12\t14\t16\t18\t\n",
      "6\t9\t12\t15\t18\t21\t24\t27\t\n",
      "8\t12\t16\t20\t24\t28\t32\t36\t\n",
      "10\t15\t20\t25\t30\t35\t40\t45\t\n",
      "12\t18\t24\t30\t36\t42\t48\t54\t\n",
      "14\t21\t28\t35\t42\t49\t56\t63\t\n",
      "16\t24\t32\t40\t48\t56\t64\t72\t\n",
      "18\t27\t36\t45\t54\t63\t72\t81\t\n"
     ]
    }
   ],
   "source": [
    "for i in range(1,10): #i는 단을 표현\n",
    "    for j in range(2,10):\n",
    "        print(i*j, end =\"\\t\")\n",
    "        \n",
    "    print()"
   ]
  },
  {
   "cell_type": "code",
   "execution_count": 66,
   "id": "6f4c08e0",
   "metadata": {},
   "outputs": [
    {
     "name": "stdout",
     "output_type": "stream",
     "text": [
      "0\n",
      "2\n",
      "4\n",
      "6\n",
      "8\n",
      "10\n"
     ]
    }
   ],
   "source": [
    "# range를 사용하여 100이하의 수중 짝수들만의 합계를 구하세요.\n",
    "\n",
    "#range(start, stop, step) / \n",
    "\n",
    "#for i in range(11): #start를 생략하면 0에서 시작\n",
    "#    print(i)\n",
    "\n",
    "for i in range(0, 11, 2): #stop을 생략하면 1씩 증가\n",
    "   print(i)\n"
   ]
  },
  {
   "cell_type": "code",
   "execution_count": 70,
   "id": "c795d24a",
   "metadata": {},
   "outputs": [
    {
     "name": "stdout",
     "output_type": "stream",
     "text": [
      "[1, 2, 3, 4]\n",
      "[2, 4, 6, 8]\n",
      "[2, 4, 6, 8]\n",
      "[2, 4]\n"
     ]
    }
   ],
   "source": [
    "#리스트 축약/내포 List Comprehension\n",
    "#리스트를 좀 더 편리하고 직관적으로 만드는 방법이다.\n",
    "\n",
    "list1 = [1,2,3,4]\n",
    "\n",
    "print(list1)\n",
    "\n",
    "list2 = [num*2  for num in list1]\n",
    "\n",
    "print(list2)\n",
    "\n",
    "\n",
    "list3 = [num*2  for num in list1]\n",
    "\n",
    "print(list3)\n",
    "\n",
    "list4 = [num  for num in list1       if num % 2 == 0]\n",
    "\n",
    "print(list4)\n"
   ]
  },
  {
   "cell_type": "code",
   "execution_count": 76,
   "id": "68b0c1bd",
   "metadata": {},
   "outputs": [
    {
     "name": "stdout",
     "output_type": "stream",
     "text": [
      "합격입니다.\n",
      "불합격입니다\n"
     ]
    }
   ],
   "source": [
    "no = 70\n",
    "\n",
    "if no >= 70:\n",
    "    print(\"합격입니다.\")\n",
    "else:\n",
    "    print(\"불합격입니다.\")\n",
    "    \n",
    "\n",
    "print(\"합격입니다.\"    if no >=80   else \"불합격입니다\")"
   ]
  },
  {
   "cell_type": "code",
   "execution_count": 83,
   "id": "d13d971b",
   "metadata": {},
   "outputs": [
    {
     "name": "stdout",
     "output_type": "stream",
     "text": [
      "number1: 10\n",
      "number2: 9\n",
      "number3: 20\n",
      "20\n"
     ]
    }
   ],
   "source": [
    "# 사용자로부터 세 개의 숫자를 입력 받은 후 가장 큰 숫자를 출력하라.\n",
    "\n",
    "a = int(input (\"number1: \"))\n",
    "b = int(input (\"number2: \"))\n",
    "c = int(input (\"number3: \"))\n",
    "\n",
    "if a>b and a>c:\n",
    "    print(a)\n",
    "elif b>a and b>c:\n",
    "    print(b)\n",
    "else:\n",
    "    print(c)"
   ]
  },
  {
   "cell_type": "code",
   "execution_count": 90,
   "id": "964205c6",
   "metadata": {},
   "outputs": [
    {
     "name": "stdout",
     "output_type": "stream",
     "text": [
      "주민등록번호: 821010-2635210\n",
      "여\n"
     ]
    }
   ],
   "source": [
    "#주민등록번호 뒷 자리 7자리 중 첫째 자리는 성별을 나타내는데, 1,3은 남자 2,4는 여자를 의미한다. \n",
    "#사용자로부터 13자리의 주민등록번호를 입력 받은 후 성별(남자, 여자)를 출력하는 프로그램을 작성하라.\n",
    "#821010-1635210\n",
    "\n",
    "a = str(input(\"주민등록번호: \"))\n",
    "b = a[7]\n",
    "\n",
    "\n",
    "if b == \"1\" or b == \"3\" : \n",
    "    print(\"남\")\n",
    "else :\n",
    "    print(\"여\")\n"
   ]
  },
  {
   "cell_type": "code",
   "execution_count": 93,
   "id": "75025907",
   "metadata": {},
   "outputs": [
    {
     "name": "stdout",
     "output_type": "stream",
     "text": [
      "d\n",
      "c\n",
      "p\n"
     ]
    }
   ],
   "source": [
    "#리스트 = ['dog', 'cat', 'parrot']\n",
    "#for문을 사용해서 동물 이름의 첫 글자만 출력하라.\n",
    "\n",
    "list = ['dog', 'cat', 'parrot']\n",
    "\n",
    "for i in list:\n",
    "    print(i[0])"
   ]
  },
  {
   "cell_type": "code",
   "execution_count": 100,
   "id": "7ff91f22",
   "metadata": {},
   "outputs": [
    {
     "name": "stdout",
     "output_type": "stream",
     "text": [
      "100\n",
      "190\n",
      "310\n"
     ]
    }
   ],
   "source": [
    "#ohlc리스트에는 시가(open), 고가(high), 저가(low), 종가(close)가 날짜별로 저장돼 있다. \n",
    "#화면에 종가데이터를 출력하라.\n",
    "\n",
    "ohlc = [[\"open\", \"high\", \"low\", \"close\"],\n",
    "[100, 110, 70, 100],\n",
    "[200, 210, 180, 190],\n",
    "[300, 310, 300, 310]]\n",
    "\n",
    "for i in range(1,4):\n",
    "    print(ohlc[i][3])\n"
   ]
  },
  {
   "cell_type": "code",
   "execution_count": 2,
   "id": "b6728668",
   "metadata": {},
   "outputs": [
    {
     "name": "stdout",
     "output_type": "stream",
     "text": [
      "100\n",
      "310\n"
     ]
    }
   ],
   "source": [
    "#ohlc리스트에는 시가(open), 고가(high), 저가(low), 종가(close)가 날짜별로 저장돼 있다. \n",
    "#종가가 시가보다 크거나 같은 경우에만 종가를 출력하라.\n",
    "\n",
    "\n",
    "a = [[\"open\", \"high\", \"low\", \"close\"],\n",
    "[100, 110, 70, 100],\n",
    "[200, 210, 180, 190],\n",
    "[300, 310, 300, 310]]\n",
    "for i in range(1,4):\n",
    "    if a[i][3] < a[i][0]:\n",
    "        continue\n",
    "    print(a[i][3])"
   ]
  },
  {
   "cell_type": "code",
   "execution_count": 3,
   "id": "79d3ae85",
   "metadata": {},
   "outputs": [
    {
     "ename": "NameError",
     "evalue": "name 'reqeusts' is not defined",
     "output_type": "error",
     "traceback": [
      "\u001b[1;31m---------------------------------------------------------------------------\u001b[0m",
      "\u001b[1;31mNameError\u001b[0m                                 Traceback (most recent call last)",
      "\u001b[1;32m~\\AppData\\Local\\Temp\\ipykernel_16316\\2220857253.py\u001b[0m in \u001b[0;36m<module>\u001b[1;34m\u001b[0m\n\u001b[0;32m      1\u001b[0m \u001b[1;32mimport\u001b[0m \u001b[0mrequests\u001b[0m \u001b[1;31m#웹상에서 데이터를 가져올 때 사용\u001b[0m\u001b[1;33m\u001b[0m\u001b[1;33m\u001b[0m\u001b[0m\n\u001b[0;32m      2\u001b[0m \u001b[1;33m\u001b[0m\u001b[0m\n\u001b[1;32m----> 3\u001b[1;33m \u001b[0mbtc\u001b[0m \u001b[1;33m=\u001b[0m \u001b[0mreqeusts\u001b[0m\u001b[1;33m.\u001b[0m\u001b[0mget\u001b[0m\u001b[1;33m(\u001b[0m\u001b[1;34m\"https://api.bithumb.com/public/ticker/\"\u001b[0m\u001b[1;33m)\u001b[0m\u001b[1;33m.\u001b[0m\u001b[0mjson\u001b[0m\u001b[1;33m(\u001b[0m\u001b[1;33m)\u001b[0m\u001b[1;33m[\u001b[0m\u001b[1;34m'data'\u001b[0m\u001b[1;33m]\u001b[0m\u001b[1;33m\u001b[0m\u001b[1;33m\u001b[0m\u001b[0m\n\u001b[0m\u001b[0;32m      4\u001b[0m \u001b[0mprint\u001b[0m\u001b[1;33m(\u001b[0m\u001b[0mbtc\u001b[0m\u001b[1;33m)\u001b[0m\u001b[1;33m\u001b[0m\u001b[1;33m\u001b[0m\u001b[0m\n",
      "\u001b[1;31mNameError\u001b[0m: name 'reqeusts' is not defined"
     ]
    }
   ],
   "source": [
    "import requests #웹상에서 데이터를 가져올 때 사용\n",
    "\n",
    "btc = reqeusts.get(\"https://api.bithumb.com/public/ticker/\").json()['data']\n",
    "print(btc)"
   ]
  },
  {
   "cell_type": "code",
   "execution_count": 4,
   "id": "9e285b57",
   "metadata": {},
   "outputs": [
    {
     "name": "stdout",
     "output_type": "stream",
     "text": [
      "*\n",
      "**\n",
      "***\n",
      "****\n",
      "*****\n"
     ]
    }
   ],
   "source": [
    "a = 1\n",
    "while (a <= 5):\n",
    "    print(a*\"*\")\n",
    "    a += 1"
   ]
  },
  {
   "cell_type": "code",
   "execution_count": 1,
   "id": "3e48c2cb",
   "metadata": {},
   "outputs": [
    {
     "name": "stdout",
     "output_type": "stream",
     "text": [
      "73\n"
     ]
    }
   ],
   "source": [
    "#난수 발생시키는 기능\n",
    "\n",
    "import random\n",
    "num = random.randrange(1, 101)\n",
    "\n",
    "print(num)"
   ]
  },
  {
   "cell_type": "code",
   "execution_count": null,
   "id": "4356f603",
   "metadata": {},
   "outputs": [],
   "source": [
    "#정답 :75\n",
    "#슷자를 입력하세요. (1-100) >>>50\n",
    "\n",
    "#정답보다 낮을 때 : 더 큰수를 입력하세요.\n",
    "#슷자를 입력하세요. (1-100) >>>80\n",
    "#더 작은 수를 입력하세요.\n",
    "#슷자를 입력하세요. (1-100) >>>70\n",
    "#더 큰 수를 입력하세요.\n",
    "#슷자를 입력하세요. (1-100) >>>75\n",
    "#정답입니다. 4번째 시도에 맞추셨습니다\n",
    "\n",
    "import random\n",
    "num = random.randrange(1, 101) #미만 주의\n",
    "user = 0\n",
    "total = 0\n",
    "\n",
    "while num i = user:\n"
   ]
  },
  {
   "cell_type": "code",
   "execution_count": null,
   "id": "294323a9",
   "metadata": {},
   "outputs": [],
   "source": [
    "import rand"
   ]
  }
 ],
 "metadata": {
  "kernelspec": {
   "display_name": "Python 3 (ipykernel)",
   "language": "python",
   "name": "python3"
  },
  "language_info": {
   "codemirror_mode": {
    "name": "ipython",
    "version": 3
   },
   "file_extension": ".py",
   "mimetype": "text/x-python",
   "name": "python",
   "nbconvert_exporter": "python",
   "pygments_lexer": "ipython3",
   "version": "3.9.13"
  }
 },
 "nbformat": 4,
 "nbformat_minor": 5
}
