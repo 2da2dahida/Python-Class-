{
 "cells": [
  {
   "cell_type": "code",
   "execution_count": 1,
   "id": "ca074b1e",
   "metadata": {},
   "outputs": [
    {
     "name": "stdout",
     "output_type": "stream",
     "text": [
      "hello world!!!\n"
     ]
    }
   ],
   "source": [
    "print(\"hello world!!!\")"
   ]
  },
  {
   "cell_type": "code",
   "execution_count": 9,
   "id": "23e7c7e8",
   "metadata": {},
   "outputs": [
    {
     "name": "stdout",
     "output_type": "stream",
     "text": [
      "택시를 타자\n"
     ]
    }
   ],
   "source": [
    "money = True\n",
    "if money == True:\n",
    "    print(\"택시를 타자\")\n",
    "else:\n",
    "        print(\"걸어 가자\")"
   ]
  },
  {
   "cell_type": "code",
   "execution_count": 10,
   "id": "bf2ced10",
   "metadata": {},
   "outputs": [
    {
     "name": "stdout",
     "output_type": "stream",
     "text": [
      "택시를 타자\n"
     ]
    }
   ],
   "source": [
    "money = 8000\n",
    "\n",
    "if money >= 5000:\n",
    "    print(\"택시를 타자\")\n",
    "elif money >= 1000:\n",
    "    print(\"버스를 타자\")\n",
    "else:\n",
    "    print(\"걸어 가자\")"
   ]
  },
  {
   "cell_type": "code",
   "execution_count": 13,
   "id": "989c9a07",
   "metadata": {},
   "outputs": [
    {
     "name": "stdout",
     "output_type": "stream",
     "text": [
      "성적을 입력하세요70\n",
      "C학점 입니다.\n"
     ]
    }
   ],
   "source": [
    "#학생의 성적을 입력 받아서 \n",
    "#점수가 90 이상이면 \"A학점 입니다.\"\n",
    "#점수가 80 이상이면 \"B학점 입니다.\"\n",
    "#점수가 70 이상이면 \"C학점 입니다.\"\n",
    "#점수가 60 이상이면 \"D학점 입니다.\"\n",
    "#나머지는 모두 \"F학점 입니다.\"\n",
    "\n",
    "\n",
    "score =int(input(\"성적을 입력하세요\"))\n",
    "\n",
    "if score >=90:\n",
    "    print(\"A학점 입니다.\")\n",
    "elif score >=80:\n",
    "    print(\"B학점 입니다.\")\n",
    "elif score >=70:\n",
    "    print(\"C학점 입니다.\")\n",
    "elif score >=60:\n",
    "    print(\"D학점 입니다.\")\n",
    "else:\n",
    "    print(\"F학점\")\n"
   ]
  },
  {
   "cell_type": "code",
   "execution_count": 18,
   "id": "33aa04db",
   "metadata": {},
   "outputs": [
    {
     "name": "stdout",
     "output_type": "stream",
     "text": [
      "10\n",
      "9\n",
      "8\n",
      "7\n",
      "6\n",
      "5\n",
      "4\n",
      "3\n",
      "2\n",
      "1\n",
      "0\n"
     ]
    }
   ],
   "source": [
    "#While\n",
    "\n",
    "no = 10\n",
    "\n",
    "while no >= 0:\n",
    "    print(no)\n",
    "    no = no - 1\n",
    "    "
   ]
  },
  {
   "cell_type": "code",
   "execution_count": 17,
   "id": "260cf47f",
   "metadata": {
    "scrolled": true
   },
   "outputs": [
    {
     "name": "stdout",
     "output_type": "stream",
     "text": [
      "1. 덧셈 / 2. 뺄셈 /3. 곱셈 / 4. 나눗셈 / 5. 종료\n",
      "1\n",
      "1. 덧셈 / 2. 뺄셈 /3. 곱셈 / 4. 나눗셈 / 5. 종료\n",
      "2\n",
      "1. 덧셈 / 2. 뺄셈 /3. 곱셈 / 4. 나눗셈 / 5. 종료\n",
      "3\n",
      "1. 덧셈 / 2. 뺄셈 /3. 곱셈 / 4. 나눗셈 / 5. 종료\n",
      "4\n",
      "1. 덧셈 / 2. 뺄셈 /3. 곱셈 / 4. 나눗셈 / 5. 종료\n",
      "5\n"
     ]
    }
   ],
   "source": [
    "#아래와 같은 경우 5종료를 선택할 때 까지 반복 횟수가 정확하지 않다. 따라서 while문 더 어울리는 \n",
    "#경우라고 할 수 있다.\n",
    "\n",
    "prompt = \"1. 덧셈 / 2. 뺄셈 /3. 곱셈 / 4. 나눗셈 / 5. 종료\"\n",
    "no = 0\n",
    "\n",
    "while no <= 4:\n",
    "    print(prompt)\n",
    "    no = int(input())\n",
    "    "
   ]
  },
  {
   "cell_type": "code",
   "execution_count": 20,
   "id": "e1ac7f17",
   "metadata": {},
   "outputs": [
    {
     "name": "stdout",
     "output_type": "stream",
     "text": [
      "0\n",
      "1\n",
      "2\n",
      "3\n",
      "4\n",
      "5\n",
      "6\n",
      "7\n",
      "8\n",
      "9\n",
      "10\n"
     ]
    }
   ],
   "source": [
    "#while 문의 경우에는 반복 횟수가 정확하지 않을 경우가 많기 때문에 조건에서 뿐만이 아니라 중간에\n",
    "#반복을 종료 시키는 방법도 필요하다. \n",
    "\n",
    "no = 0\n",
    "\n",
    "while True:\n",
    "    print(no)\n",
    "    no = no + 1\n",
    "    \n",
    "    if no > 10:\n",
    "        break #빠져나감"
   ]
  },
  {
   "cell_type": "code",
   "execution_count": 21,
   "id": "17c9f571",
   "metadata": {},
   "outputs": [
    {
     "name": "stdout",
     "output_type": "stream",
     "text": [
      "1683\n"
     ]
    }
   ],
   "source": [
    "#while 문을 사용하여 1부터 100까지의 수 중 3의 배수만의 합을 구하시오.\n",
    "\n",
    "no = 1\n",
    "sum = 0\n",
    "\n",
    "while no <= 100:\n",
    "    if no % 3 == 0:\n",
    "        sum = sum + no\n",
    "        \n",
    "    no = no + 1 #no += 1 \n",
    "    \n",
    "print(sum)\n"
   ]
  },
  {
   "cell_type": "code",
   "execution_count": null,
   "id": "048ab720",
   "metadata": {},
   "outputs": [],
   "source": [
    "# For 문\n",
    "\n",
    "#while은 반복 횟수가 정확하지 않을 경우 주로 사용되고 for 문은 반복횟수가 명확할 때 주로 사용된다.\n",
    "\n",
    "#for 변수명 in 리스트0:\n",
    "    #수행구문\n",
    "    "
   ]
  },
  {
   "cell_type": "code",
   "execution_count": 23,
   "id": "2b0c9744",
   "metadata": {},
   "outputs": [
    {
     "name": "stdout",
     "output_type": "stream",
     "text": [
      "1\n",
      "2\n",
      "3\n",
      "4\n",
      "5\n",
      "6\n",
      "7\n",
      "8\n",
      "9\n",
      "10\n"
     ]
    }
   ],
   "source": [
    "for i in [1,2,3,4,5,6,7,8,9,10]:\n",
    "    print(i)"
   ]
  },
  {
   "cell_type": "code",
   "execution_count": 37,
   "id": "f846dcc8",
   "metadata": {},
   "outputs": [
    {
     "name": "stdout",
     "output_type": "stream",
     "text": [
      "1 번째 학생은 불합격입니다.\n",
      "90 번째 학생은 합격입니다.\n",
      "3 번째 학생은 불합격입니다.\n",
      "4 번째 학생은 불합격입니다.\n",
      "100 번째 학생은 합격입니다.\n"
     ]
    }
   ],
   "source": [
    "math = [80, 90, 70, 70, 100]\n",
    "\n",
    "j = 1\n",
    "for i in math:  \n",
    "    if i >= 90:\n",
    "      \n",
    "        print(i, \"번째 학생은 합격입니다.\")\n",
    "    else:\n",
    "        print(j, \"번째 학생은 불합격입니다.\")\n",
    "    j += 1"
   ]
  },
  {
   "cell_type": "code",
   "execution_count": 48,
   "id": "94ad4f97",
   "metadata": {},
   "outputs": [
    {
     "name": "stdout",
     "output_type": "stream",
     "text": [
      "2\n",
      "4\n",
      "6\n",
      "8\n",
      "10\n"
     ]
    }
   ],
   "source": [
    "for i in [1,2,3,4,5,6,7,8,9,10]:\n",
    "    if i % 2 != 0:\n",
    "        continue\n",
    "    print(i)\n",
    "    "
   ]
  },
  {
   "cell_type": "code",
   "execution_count": null,
   "id": "be7c15a0",
   "metadata": {},
   "outputs": [],
   "source": [
    "# range 함수\n",
    "\n",
    "# 숫자를 자동으로 생성해준다.  for문과 함께 사용되는 경우가 아주 많다."
   ]
  },
  {
   "cell_type": "code",
   "execution_count": null,
   "id": "048b402e",
   "metadata": {},
   "outputs": [],
   "source": [
    "print(range(1,11))\n",
    "range(1,11)"
   ]
  },
  {
   "cell_type": "code",
   "execution_count": 49,
   "id": "89c2d692",
   "metadata": {},
   "outputs": [
    {
     "name": "stdout",
     "output_type": "stream",
     "text": [
      "1\n",
      "2\n",
      "3\n",
      "4\n",
      "5\n",
      "6\n",
      "7\n",
      "8\n",
      "9\n",
      "10\n"
     ]
    }
   ],
   "source": [
    "for i in range(1,11): #두번째 수는 미만\n",
    "    print(i)"
   ]
  },
  {
   "cell_type": "code",
   "execution_count": 54,
   "id": "58b5aa98",
   "metadata": {},
   "outputs": [
    {
     "name": "stdout",
     "output_type": "stream",
     "text": [
      "2\t4\t6\t8\t10\t12\t14\t16\t18\t\n",
      "3\t6\t9\t12\t15\t18\t21\t24\t27\t\n",
      "4\t8\t12\t16\t20\t24\t28\t32\t36\t\n",
      "5\t10\t15\t20\t25\t30\t35\t40\t45\t\n",
      "6\t12\t18\t24\t30\t36\t42\t48\t54\t\n",
      "7\t14\t21\t28\t35\t42\t49\t56\t63\t\n",
      "8\t16\t24\t32\t40\t48\t56\t64\t72\t\n",
      "9\t18\t27\t36\t45\t54\t63\t72\t81\t\n"
     ]
    }
   ],
   "source": [
    "# for 문으로 구구단 출력하기\n",
    "\n",
    "for i in range(2,10): #i는 단을 표현\n",
    "    for j in range(1,10):\n",
    "        print(i*j, end =\"\\t\")\n",
    "        \n",
    "    print()"
   ]
  },
  {
   "cell_type": "code",
   "execution_count": 57,
   "id": "04d81528",
   "metadata": {},
   "outputs": [
    {
     "name": "stdout",
     "output_type": "stream",
     "text": [
      "2\t3\t4\t5\t6\t7\t8\t9\t\n",
      "4\t6\t8\t10\t12\t14\t16\t18\t\n",
      "6\t9\t12\t15\t18\t21\t24\t27\t\n",
      "8\t12\t16\t20\t24\t28\t32\t36\t\n",
      "10\t15\t20\t25\t30\t35\t40\t45\t\n",
      "12\t18\t24\t30\t36\t42\t48\t54\t\n",
      "14\t21\t28\t35\t42\t49\t56\t63\t\n",
      "16\t24\t32\t40\t48\t56\t64\t72\t\n",
      "18\t27\t36\t45\t54\t63\t72\t81\t\n"
     ]
    }
   ],
   "source": [
    "for i in range(1,10): #i는 단을 표현\n",
    "    for j in range(2,10):\n",
    "        print(i*j, end =\"\\t\")\n",
    "        \n",
    "    print()"
   ]
  },
  {
   "cell_type": "code",
   "execution_count": 66,
   "id": "69c81c36",
   "metadata": {},
   "outputs": [
    {
     "name": "stdout",
     "output_type": "stream",
     "text": [
      "0\n",
      "2\n",
      "4\n",
      "6\n",
      "8\n",
      "10\n"
     ]
    }
   ],
   "source": [
    "# range를 사용하여 100이하의 수중 짝수들만의 합계를 구하세요.\n",
    "\n",
    "#range(start, stop, step) / \n",
    "\n",
    "#for i in range(11): #start를 생략하면 0에서 시작\n",
    "#    print(i)\n",
    "\n",
    "for i in range(0, 11, 2): #stop을 생략하면 1씩 증가\n",
    "   print(i)\n"
   ]
  },
  {
   "cell_type": "code",
   "execution_count": 70,
   "id": "0f626362",
   "metadata": {},
   "outputs": [
    {
     "name": "stdout",
     "output_type": "stream",
     "text": [
      "[1, 2, 3, 4]\n",
      "[2, 4, 6, 8]\n",
      "[2, 4, 6, 8]\n",
      "[2, 4]\n"
     ]
    }
   ],
   "source": [
    "#리스트 축약/내포 List Comprehension\n",
    "#리스트를 좀 더 편리하고 직관적으로 만드는 방법이다.\n",
    "\n",
    "list1 = [1,2,3,4]\n",
    "\n",
    "print(list1)\n",
    "\n",
    "list2 = [num*2  for num in list1]\n",
    "\n",
    "print(list2)\n",
    "\n",
    "\n",
    "list3 = [num*2  for num in list1]\n",
    "\n",
    "print(list3)\n",
    "\n",
    "list4 = [num  for num in list1       if num % 2 == 0]\n",
    "\n",
    "print(list4)\n"
   ]
  },
  {
   "cell_type": "code",
   "execution_count": 76,
   "id": "407c6d57",
   "metadata": {},
   "outputs": [
    {
     "name": "stdout",
     "output_type": "stream",
     "text": [
      "합격입니다.\n",
      "불합격입니다\n"
     ]
    }
   ],
   "source": [
    "no = 70\n",
    "\n",
    "if no >= 70:\n",
    "    print(\"합격입니다.\")\n",
    "else:\n",
    "    print(\"불합격입니다.\")\n",
    "    \n",
    "\n",
    "print(\"합격입니다.\"    if no >=80   else \"불합격입니다\")"
   ]
  },
  {
   "cell_type": "code",
   "execution_count": null,
   "id": "75ee0824",
   "metadata": {},
   "outputs": [],
   "source": []
  }
 ],
 "metadata": {
  "kernelspec": {
   "display_name": "Python 3 (ipykernel)",
   "language": "python",
   "name": "python3"
  },
  "language_info": {
   "codemirror_mode": {
    "name": "ipython",
    "version": 3
   },
   "file_extension": ".py",
   "mimetype": "text/x-python",
   "name": "python",
   "nbconvert_exporter": "python",
   "pygments_lexer": "ipython3",
   "version": "3.9.13"
  }
 },
 "nbformat": 4,
 "nbformat_minor": 5
}
