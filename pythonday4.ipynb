{
  "nbformat": 4,
  "nbformat_minor": 0,
  "metadata": {
    "colab": {
      "provenance": [],
      "authorship_tag": "ABX9TyO3U6yfR9jZIgmXkwcs75mD",
      "include_colab_link": true
    },
    "kernelspec": {
      "name": "python3",
      "display_name": "Python 3"
    },
    "language_info": {
      "name": "python"
    }
  },
  "cells": [
    {
      "cell_type": "markdown",
      "metadata": {
        "id": "view-in-github",
        "colab_type": "text"
      },
      "source": [
        "<a href=\"https://colab.research.google.com/github/2da2dahida/Python-Class-/blob/main/pythonday4.ipynb\" target=\"_parent\"><img src=\"https://colab.research.google.com/assets/colab-badge.svg\" alt=\"Open In Colab\"/></a>"
      ]
    },
    {
      "cell_type": "markdown",
      "source": [
        "아나콘다 -> vs코드 -> 오픈 파일 ... \n",
        "\n",
        "프레지..\n",
        "prezi\n",
        "\n",
        "\n",
        "https://app.diagrams.net/\n",
        "\n",
        "Algorithm 알고리즘\n",
        "알고리즘은 문제를 해결하기 위한 절차.\n",
        "문제 해결을 위한 절차를 하나하나 구체적인 순서에 따라 표현한 아이디어 또는 생각\n",
        "\n",
        "알고리즘은 컴퓨터에서만 사용하는 언어가 아니다.\n",
        "알고리즘 자체는 일상생활에서도 많이 사용된다 .\n",
        "예를 들면 요리의 레시피, 음악의 악보, 가전제품 설명서 등도 다 알고리즘. \n",
        "\n",
        "그 알고리즘을 표현하기 위해 문자, 기호, 그림등으로 나타낼 수 있다.\n",
        "이러한 알고리즘을 프로그래밍 언어로 기술하게 되면 그것이 바로 프로그램이 된다.\n",
        "프로그래밍 언어로 작성한 프로그램은 컴퓨터에 지시하기 위한 언어이다. \n",
        "\n",
        "로봇 청소기\n",
        "\n",
        "모터를 on으로 한다 -> 직진한다 -> 만약 물체가 있으면 옆으로 방향전환한다 -> 직진한다 -> 배터리가 5% 미만이면 충전기로 이동한다 -> 청소구역이 남았으면 다시 청소 시작한다. \n",
        "\n",
        "drawio -> 플로우차트 (순서도)사용\n",
        "\n"
      ],
      "metadata": {
        "id": "vrAlyZf8haHt"
      }
    },
    {
      "cell_type": "code",
      "source": [
        "#삼각형의 면적 구하는 프로그램\n",
        "\n",
        "base = int(input(\"밑변 길이: \"))\n",
        "height = int(input(\"높이: \"))\n",
        "\n",
        "area = base * height / 2\n",
        "\n",
        "print(area)"
      ],
      "metadata": {
        "colab": {
          "base_uri": "https://localhost:8080/"
        },
        "id": "qAa2oQzx_D2Y",
        "outputId": "6ad027b4-1820-4094-8e66-06f0da02a75a"
      },
      "execution_count": null,
      "outputs": [
        {
          "output_type": "stream",
          "name": "stdout",
          "text": [
            "밑변 길이: 6\n",
            "높이: 3\n",
            "9.0\n"
          ]
        }
      ]
    },
    {
      "cell_type": "code",
      "source": [
        "#두 데이터\n",
        "\n",
        "a = int(input(\"첫번째 수는\"))\n",
        "b = int(input(\"두번째 수는\"))\n",
        "\n",
        "if a > b:\n",
        "  print(\"첫번째가 더 크다\")\n",
        "elif b > a:\n",
        "  print(\"두번째가 더 크다\")\n",
        "else:\n",
        "  print(\"두 수는 같다\")\n",
        "  "
      ],
      "metadata": {
        "colab": {
          "base_uri": "https://localhost:8080/"
        },
        "id": "O2VMM90v__cn",
        "outputId": "583bc74c-e56e-4c87-a62b-882e1b99c6f9"
      },
      "execution_count": null,
      "outputs": [
        {
          "output_type": "stream",
          "name": "stdout",
          "text": [
            "첫번째 수는5\n",
            "두번째 수는2\n",
            "첫번째가 더 크다\n"
          ]
        }
      ]
    },
    {
      "cell_type": "code",
      "source": [
        "a = 5\n",
        "b = 3\n",
        "a, b = b, a\n",
        "print(a, b)"
      ],
      "metadata": {
        "colab": {
          "base_uri": "https://localhost:8080/"
        },
        "id": "kfKj01I1ElLd",
        "outputId": "bb05f592-5243-471f-de6e-320c849e8f9b"
      },
      "execution_count": null,
      "outputs": [
        {
          "output_type": "stream",
          "name": "stdout",
          "text": [
            "3 5\n"
          ]
        }
      ]
    },
    {
      "cell_type": "code",
      "source": [
        "i = 0\n",
        "sum = 0\n",
        "arr = [2,3,4,5,6]\n",
        "\n",
        "while i<5:\n",
        "  sum = sum + arr[i]\n",
        "  i += 1\n",
        "\n",
        "print(sum)"
      ],
      "metadata": {
        "colab": {
          "base_uri": "https://localhost:8080/"
        },
        "id": "2PCy58SudfD8",
        "outputId": "fd2090a7-167a-4d1c-c50d-dedb3d5cbe7d"
      },
      "execution_count": null,
      "outputs": [
        {
          "output_type": "stream",
          "name": "stdout",
          "text": [
            "20\n"
          ]
        }
      ]
    },
    {
      "cell_type": "code",
      "source": [
        "arr = [2,4,3,5,1]\n",
        "i = 1\n",
        "\n",
        "max = arr[0]\n",
        "\n",
        "while i < 5:\n",
        "  if max < arr[i]:\n",
        "    max = arr[i]\n",
        "  i += 1\n",
        "\n",
        "print(max)"
      ],
      "metadata": {
        "colab": {
          "base_uri": "https://localhost:8080/"
        },
        "id": "1A7-hH9vsrU1",
        "outputId": "b01270e7-26bb-4d2c-c0ae-1d7f246d1ae7"
      },
      "execution_count": null,
      "outputs": [
        {
          "output_type": "stream",
          "name": "stdout",
          "text": [
            "5\n"
          ]
        }
      ]
    },
    {
      "cell_type": "code",
      "source": [
        "i=0\n",
        "arr=[4,2,3,5,1]\n",
        "while i<5:\n",
        "  if arr[i]==5:\n",
        "    print(f'{i}번째에 있습니다.')\n",
        "    break\n",
        "  else:\n",
        "    i+= 1\n",
        "if i ==5:\n",
        "  print(f'찾는 값이 없습니다.')"
      ],
      "metadata": {
        "colab": {
          "base_uri": "https://localhost:8080/"
        },
        "id": "KRjAtGP50_K3",
        "outputId": "8407bfeb-bda1-4c0c-ee39-e2efef37d76e"
      },
      "execution_count": null,
      "outputs": [
        {
          "output_type": "stream",
          "name": "stdout",
          "text": [
            "3번째에 있습니다.\n"
          ]
        }
      ]
    }
  ]
}