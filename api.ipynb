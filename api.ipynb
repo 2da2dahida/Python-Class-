{
 "cells": [
  {
   "cell_type": "code",
   "execution_count": null,
   "id": "c8a30670",
   "metadata": {},
   "outputs": [],
   "source": [
    "#파이썬을 이용한 비트코인 가격 조회 윈도우 프로그램 만들기\n",
    "\n",
    "#pyQt 를 이용한 윈도우 앱 만들기\n",
    "\n",
    "# QT Designer  로 쉽고 편하게 윈도우를 구성할 수 있다.  \n",
    "# anaconda 가 이미 설치 해 놓았다.\n",
    "\n",
    "#애나콘다 파일 위치열기 -> designer.exe 파일 찾기 "
   ]
  },
  {
   "cell_type": "code",
   "execution_count": null,
   "id": "8deff6c4",
   "metadata": {},
   "outputs": [],
   "source": [
    "# 윈도우 창 크기 조절하여 띄우기\n",
    "\n",
    "import sys                           # 윈도우 시스템 접근\n",
    "from PyQt5.QtWidgets import *        # PyQt5 모듈 읽어오기\n",
    "from PyQt5.QtGui import *\n",
    "\n",
    "class MyWindow(QMainWindow):\n",
    "    def __init__(self):\n",
    "        super().__init__()\n",
    "        self.setGeometry(100,200,300,400)\n",
    "        self.setWindowTitle(\"헬로우 월드 !!!\")\n",
    "        \n",
    "        \n",
    "        btn = QPushButton(\"버튼\", self)\n",
    "\n",
    "app = QApplication(sys.argv) # 윈도우 창띄우기\n",
    "window = MyWindow()\n",
    "window.show()\n",
    "\n",
    "app.exec_()    "
   ]
  },
  {
   "cell_type": "code",
   "execution_count": 1,
   "id": "69c94488",
   "metadata": {},
   "outputs": [
    {
     "data": {
      "text/plain": [
       "0"
      ]
     },
     "execution_count": 1,
     "metadata": {},
     "output_type": "execute_result"
    }
   ],
   "source": [
    "#QT 디자이너 사용하기 \n",
    "import sys                           # 윈도우 시스템 접근\n",
    "from PyQt5.QtWidgets import *        # PyQt5 모듈 읽어오기\n",
    "from PyQt5 import uic\n",
    "\n",
    "\n",
    "from_class = uic.loadUiType(\"mywindow.ui\")[0]\n",
    "\n",
    "\n",
    "class MyWindow(QMainWindow, from_class):\n",
    "    def __init__(self):\n",
    "        super().__init__()\n",
    "        self.setupUi(self)\n",
    "\n",
    "\n",
    "app = QApplication(sys.argv) # 윈도우 창띄우기\n",
    "window = MyWindow()\n",
    "window.show()\n",
    "\n",
    "app.exec_()    "
   ]
  },
  {
   "cell_type": "code",
   "execution_count": 1,
   "id": "204d9d70",
   "metadata": {},
   "outputs": [
    {
     "ename": "AttributeError",
     "evalue": "'PyQt5.QtCore.pyqtBoundSignal' object has no attribute 'connection'",
     "output_type": "error",
     "traceback": [
      "\u001b[1;31m---------------------------------------------------------------------------\u001b[0m",
      "\u001b[1;31mAttributeError\u001b[0m                            Traceback (most recent call last)",
      "\u001b[1;32m~\\AppData\\Local\\Temp\\ipykernel_4692\\2282771590.py\u001b[0m in \u001b[0;36m<module>\u001b[1;34m\u001b[0m\n\u001b[0;32m     22\u001b[0m \u001b[1;33m\u001b[0m\u001b[0m\n\u001b[0;32m     23\u001b[0m \u001b[0mapp\u001b[0m \u001b[1;33m=\u001b[0m \u001b[0mQApplication\u001b[0m\u001b[1;33m(\u001b[0m\u001b[0msys\u001b[0m\u001b[1;33m.\u001b[0m\u001b[0margv\u001b[0m\u001b[1;33m)\u001b[0m \u001b[1;31m# 윈도우 창띄우기\u001b[0m\u001b[1;33m\u001b[0m\u001b[1;33m\u001b[0m\u001b[0m\n\u001b[1;32m---> 24\u001b[1;33m \u001b[0mwindow\u001b[0m \u001b[1;33m=\u001b[0m \u001b[0mMyWindow\u001b[0m\u001b[1;33m(\u001b[0m\u001b[1;33m)\u001b[0m\u001b[1;33m\u001b[0m\u001b[1;33m\u001b[0m\u001b[0m\n\u001b[0m\u001b[0;32m     25\u001b[0m \u001b[0mwindow\u001b[0m\u001b[1;33m.\u001b[0m\u001b[0mshow\u001b[0m\u001b[1;33m(\u001b[0m\u001b[1;33m)\u001b[0m\u001b[1;33m\u001b[0m\u001b[1;33m\u001b[0m\u001b[0m\n\u001b[0;32m     26\u001b[0m \u001b[1;33m\u001b[0m\u001b[0m\n",
      "\u001b[1;32m~\\AppData\\Local\\Temp\\ipykernel_4692\\2282771590.py\u001b[0m in \u001b[0;36m__init__\u001b[1;34m(self)\u001b[0m\n\u001b[0;32m     14\u001b[0m         \u001b[0msuper\u001b[0m\u001b[1;33m(\u001b[0m\u001b[1;33m)\u001b[0m\u001b[1;33m.\u001b[0m\u001b[0m__init__\u001b[0m\u001b[1;33m(\u001b[0m\u001b[1;33m)\u001b[0m\u001b[1;33m\u001b[0m\u001b[1;33m\u001b[0m\u001b[0m\n\u001b[0;32m     15\u001b[0m         \u001b[0mself\u001b[0m\u001b[1;33m.\u001b[0m\u001b[0msetupUi\u001b[0m\u001b[1;33m(\u001b[0m\u001b[0mself\u001b[0m\u001b[1;33m)\u001b[0m\u001b[1;33m\u001b[0m\u001b[1;33m\u001b[0m\u001b[0m\n\u001b[1;32m---> 16\u001b[1;33m         \u001b[0mself\u001b[0m\u001b[1;33m.\u001b[0m\u001b[0mpushButton\u001b[0m\u001b[1;33m.\u001b[0m\u001b[0mclicked\u001b[0m\u001b[1;33m.\u001b[0m\u001b[0mconnection\u001b[0m\u001b[1;33m(\u001b[0m\u001b[0mself\u001b[0m\u001b[1;33m.\u001b[0m\u001b[0mbtn_clicked\u001b[0m\u001b[1;33m)\u001b[0m\u001b[1;33m\u001b[0m\u001b[1;33m\u001b[0m\u001b[0m\n\u001b[0m\u001b[0;32m     17\u001b[0m \u001b[1;33m\u001b[0m\u001b[0m\n\u001b[0;32m     18\u001b[0m \u001b[1;33m\u001b[0m\u001b[0m\n",
      "\u001b[1;31mAttributeError\u001b[0m: 'PyQt5.QtCore.pyqtBoundSignal' object has no attribute 'connection'"
     ]
    }
   ],
   "source": [
    "#단추 동작 확인하기\n",
    "\n",
    "\n",
    "import sys                           # 윈도우 시스템 접근\n",
    "from PyQt5.QtWidgets import *        # PyQt5 모듈 읽어오기\n",
    "from PyQt5 import uic\n",
    "\n",
    "\n",
    "from_class = uic.loadUiType(\"mywindow.ui\")[0]\n",
    "\n",
    "\n",
    "class MyWindow(QMainWindow, from_class):\n",
    "    def __init__(self):\n",
    "        super().__init__()\n",
    "        self.setupUi(self)\n",
    "        self.pushButton.clicked.connection(self.btn_clicked)\n",
    "        \n",
    "        \n",
    "    def btn_clicked(self):\n",
    "        print(\"버튼이 클릭되었네요\")\n",
    "\n",
    "\n",
    "app = QApplication(sys.argv) # 윈도우 창띄우기\n",
    "window = MyWindow()\n",
    "window.show()\n",
    "\n",
    "app.exec_()   "
   ]
  },
  {
   "cell_type": "code",
   "execution_count": 1,
   "id": "68fd2c60",
   "metadata": {},
   "outputs": [
    {
     "data": {
      "text/plain": [
       "0"
      ]
     },
     "execution_count": 1,
     "metadata": {},
     "output_type": "execute_result"
    }
   ],
   "source": [
    "import sys                           # 윈도우 시스템 접근\n",
    "from PyQt5.QtWidgets import *        # PyQt5 모듈 읽어오기\n",
    "from PyQt5 import uic                # Designer 로 만든 창을 사용만 하기\n",
    "\n",
    "form_class = uic.loadUiType(\"mywindow.ui\")[0]  # Designer 로 만든 창 사용하기\n",
    "\n",
    "class MyWindow(QMainWindow, form_class):\n",
    "    def __init__(self):\n",
    "        super().__init__()\n",
    "        self.setupUi(self)\n",
    "        self.pushButton.clicked.connect(self.btn_clicked)\n",
    "\n",
    "        \n",
    "    def btn_clicked(self):\n",
    "        print(\"버튼이 클릭되었네요\")\n",
    "\n",
    "app = QApplication(sys.argv) # 윈도우 창띄우기\n",
    "window = MyWindow()\n",
    "window.show()\n",
    "\n",
    "app.exec_()"
   ]
  },
  {
   "cell_type": "code",
   "execution_count": 2,
   "id": "2e576ceb",
   "metadata": {},
   "outputs": [
    {
     "name": "stdout",
     "output_type": "stream",
     "text": [
      "Collecting pybithumb\n",
      "  Downloading pybithumb-1.0.21-py3-none-any.whl (9.9 kB)\n",
      "Collecting bs4\n",
      "  Downloading bs4-0.0.1.tar.gz (1.1 kB)\n",
      "  Preparing metadata (setup.py): started\n",
      "  Preparing metadata (setup.py): finished with status 'done'\n",
      "Requirement already satisfied: pandas in c:\\users\\ezen\\anaconda3\\lib\\site-packages (from pybithumb) (1.4.4)\n",
      "Requirement already satisfied: requests in c:\\users\\ezen\\anaconda3\\lib\\site-packages (from pybithumb) (2.28.1)\n",
      "Collecting datetime\n",
      "  Downloading DateTime-4.7-py2.py3-none-any.whl (52 kB)\n",
      "     ---------------------------------------- 52.2/52.2 kB 2.6 MB/s eta 0:00:00\n",
      "Collecting websockets\n",
      "  Downloading websockets-10.4-cp39-cp39-win_amd64.whl (101 kB)\n",
      "     -------------------------------------- 101.4/101.4 kB 6.1 MB/s eta 0:00:00\n",
      "Collecting html5lib\n",
      "  Downloading html5lib-1.1-py2.py3-none-any.whl (112 kB)\n",
      "     -------------------------------------- 112.2/112.2 kB 6.4 MB/s eta 0:00:00\n",
      "Requirement already satisfied: beautifulsoup4 in c:\\users\\ezen\\anaconda3\\lib\\site-packages (from bs4->pybithumb) (4.11.1)\n",
      "Requirement already satisfied: pytz in c:\\users\\ezen\\anaconda3\\lib\\site-packages (from datetime->pybithumb) (2022.1)\n",
      "Requirement already satisfied: zope.interface in c:\\users\\ezen\\anaconda3\\lib\\site-packages (from datetime->pybithumb) (5.4.0)\n",
      "Requirement already satisfied: webencodings in c:\\users\\ezen\\anaconda3\\lib\\site-packages (from html5lib->pybithumb) (0.5.1)\n",
      "Requirement already satisfied: six>=1.9 in c:\\users\\ezen\\anaconda3\\lib\\site-packages (from html5lib->pybithumb) (1.16.0)\n",
      "Requirement already satisfied: numpy>=1.18.5 in c:\\users\\ezen\\anaconda3\\lib\\site-packages (from pandas->pybithumb) (1.21.5)\n",
      "Requirement already satisfied: python-dateutil>=2.8.1 in c:\\users\\ezen\\anaconda3\\lib\\site-packages (from pandas->pybithumb) (2.8.2)\n",
      "Requirement already satisfied: certifi>=2017.4.17 in c:\\users\\ezen\\anaconda3\\lib\\site-packages (from requests->pybithumb) (2022.9.14)\n",
      "Requirement already satisfied: idna<4,>=2.5 in c:\\users\\ezen\\anaconda3\\lib\\site-packages (from requests->pybithumb) (3.3)\n",
      "Requirement already satisfied: charset-normalizer<3,>=2 in c:\\users\\ezen\\anaconda3\\lib\\site-packages (from requests->pybithumb) (2.0.4)\n",
      "Requirement already satisfied: urllib3<1.27,>=1.21.1 in c:\\users\\ezen\\anaconda3\\lib\\site-packages (from requests->pybithumb) (1.26.11)\n",
      "Requirement already satisfied: soupsieve>1.2 in c:\\users\\ezen\\anaconda3\\lib\\site-packages (from beautifulsoup4->bs4->pybithumb) (2.3.1)\n",
      "Requirement already satisfied: setuptools in c:\\users\\ezen\\anaconda3\\lib\\site-packages (from zope.interface->datetime->pybithumb) (63.4.1)\n",
      "Building wheels for collected packages: bs4\n",
      "  Building wheel for bs4 (setup.py): started\n",
      "  Building wheel for bs4 (setup.py): finished with status 'done'\n",
      "  Created wheel for bs4: filename=bs4-0.0.1-py3-none-any.whl size=1257 sha256=879b791f26251d72458502776fd6e5509d4fcec567533b873fc213bd090c5432\n",
      "  Stored in directory: c:\\users\\ezen\\appdata\\local\\pip\\cache\\wheels\\73\\2b\\cb\\099980278a0c9a3e57ff1a89875ec07bfa0b6fcbebb9a8cad3\n",
      "Successfully built bs4\n",
      "Installing collected packages: websockets, html5lib, datetime, bs4, pybithumb\n",
      "Successfully installed bs4-0.0.1 datetime-4.7 html5lib-1.1 pybithumb-1.0.21 websockets-10.4\n",
      "Note: you may need to restart the kernel to use updated packages.\n"
     ]
    }
   ],
   "source": []
  },
  {
   "cell_type": "code",
   "execution_count": 3,
   "id": "27ef40e4",
   "metadata": {},
   "outputs": [
    {
     "name": "stdout",
     "output_type": "stream",
     "text": [
      "Collecting pykorbit\n",
      "  Downloading pykorbit-0.2.2-py3-none-any.whl (7.5 kB)\n",
      "Requirement already satisfied: datetime in c:\\users\\ezen\\anaconda3\\lib\\site-packages (from pykorbit) (4.7)\n",
      "Requirement already satisfied: pandas in c:\\users\\ezen\\anaconda3\\lib\\site-packages (from pykorbit) (1.4.4)\n",
      "Requirement already satisfied: numpy in c:\\users\\ezen\\anaconda3\\lib\\site-packages (from pykorbit) (1.21.5)\n",
      "Requirement already satisfied: requests in c:\\users\\ezen\\anaconda3\\lib\\site-packages (from pykorbit) (2.28.1)\n",
      "Requirement already satisfied: PyJWT in c:\\users\\ezen\\anaconda3\\lib\\site-packages (from pykorbit) (2.4.0)\n",
      "Requirement already satisfied: websockets in c:\\users\\ezen\\anaconda3\\lib\\site-packages (from pykorbit) (10.4)\n",
      "Requirement already satisfied: xlrd in c:\\users\\ezen\\anaconda3\\lib\\site-packages (from pykorbit) (2.0.1)\n",
      "Requirement already satisfied: pytz in c:\\users\\ezen\\anaconda3\\lib\\site-packages (from datetime->pykorbit) (2022.1)\n",
      "Requirement already satisfied: zope.interface in c:\\users\\ezen\\anaconda3\\lib\\site-packages (from datetime->pykorbit) (5.4.0)\n",
      "Requirement already satisfied: python-dateutil>=2.8.1 in c:\\users\\ezen\\anaconda3\\lib\\site-packages (from pandas->pykorbit) (2.8.2)\n",
      "Requirement already satisfied: urllib3<1.27,>=1.21.1 in c:\\users\\ezen\\anaconda3\\lib\\site-packages (from requests->pykorbit) (1.26.11)\n",
      "Requirement already satisfied: charset-normalizer<3,>=2 in c:\\users\\ezen\\anaconda3\\lib\\site-packages (from requests->pykorbit) (2.0.4)\n",
      "Requirement already satisfied: certifi>=2017.4.17 in c:\\users\\ezen\\anaconda3\\lib\\site-packages (from requests->pykorbit) (2022.9.14)\n",
      "Requirement already satisfied: idna<4,>=2.5 in c:\\users\\ezen\\anaconda3\\lib\\site-packages (from requests->pykorbit) (3.3)\n",
      "Requirement already satisfied: six>=1.5 in c:\\users\\ezen\\anaconda3\\lib\\site-packages (from python-dateutil>=2.8.1->pandas->pykorbit) (1.16.0)\n",
      "Requirement already satisfied: setuptools in c:\\users\\ezen\\anaconda3\\lib\\site-packages (from zope.interface->datetime->pykorbit) (63.4.1)\n",
      "Installing collected packages: pykorbit\n",
      "Successfully installed pykorbit-0.2.2\n",
      "Note: you may need to restart the kernel to use updated packages.\n"
     ]
    }
   ],
   "source": [
    "# pip install pykorbit 코빗도 설치"
   ]
  },
  {
   "cell_type": "code",
   "execution_count": 1,
   "id": "2cfc46f6",
   "metadata": {},
   "outputs": [
    {
     "name": "stdout",
     "output_type": "stream",
     "text": [
      "22887000.0\n",
      "22887000.0\n"
     ]
    },
    {
     "data": {
      "text/plain": [
       "0"
      ]
     },
     "execution_count": 1,
     "metadata": {},
     "output_type": "execute_result"
    }
   ],
   "source": [
    "#단추를 클릭하면 가격 조회에서 출력하기\n",
    "\n",
    "# pip install pybithumb 빗섬에서 만든 api를 사용하기 위해 모듈 설치(처음 한번만 설치)\n",
    "\n",
    "import sys                           # 윈도우 시스템 접근\n",
    "from PyQt5.QtWidgets import *        # PyQt5 모듈 읽어오기\n",
    "from PyQt5 import uic                # Designer 로 만든 창을 사용만 하기\n",
    "import pykorbit\n",
    "\n",
    "form_class = uic.loadUiType(\"mywindow.ui\")[0]  # Designer 로 만든 창 사용하기\n",
    "\n",
    "class MyWindow(QMainWindow, form_class):\n",
    "    def __init__(self):\n",
    "        super().__init__()\n",
    "        self.setupUi(self)\n",
    "        self.pushButton.clicked.connect(self.btn_clicked)\n",
    "\n",
    "        \n",
    "    def btn_clicked(self):\n",
    "        price = pykorbit.get_current_price(\"BTC\")\n",
    "        print(price)\n",
    "        \n",
    "        \n",
    "        \n",
    "        \n",
    "app = QApplication(sys.argv) # 윈도우 창띄우기\n",
    "window = MyWindow()\n",
    "window.show()\n",
    "\n",
    "app.exec_()"
   ]
  },
  {
   "cell_type": "code",
   "execution_count": 2,
   "id": "9f0a3901",
   "metadata": {},
   "outputs": [
    {
     "name": "stdout",
     "output_type": "stream",
     "text": [
      "22867000.0\n"
     ]
    }
   ],
   "source": [
    "import pybithumb\n",
    "\n",
    "price = pybithumb.get_current_price(\"BTC\")\n",
    "print(price)\n"
   ]
  },
  {
   "cell_type": "code",
   "execution_count": null,
   "id": "ea15953d",
   "metadata": {},
   "outputs": [],
   "source": [
    "#단추를 클릭하면 가격 조회에서 윈도우에 출력하기\n",
    "\n",
    "# pip install pybithumb 빗섬에서 만든 api를 사용하기 위해 모듈 설치(처음 한번만 설치)\n",
    "\n",
    "import sys                           # 윈도우 시스템 접근\n",
    "from PyQt5.QtWidgets import *        # PyQt5 모듈 읽어오기\n",
    "from PyQt5 import uic                # Designer 로 만든 창을 사용만 하기\n",
    "import pybithumb\n",
    "\n",
    "form_class = uic.loadUiType(\"mywindow.ui\")[0]  # Designer 로 만든 창 사용하기\n",
    "\n",
    "class MyWindow(QMainWindow, form_class):\n",
    "    def __init__(self):\n",
    "        super().__init__()\n",
    "        self.setupUi(self)\n",
    "        self.pushButton.clicked.connect(self.btn_clicked)\n",
    "\n",
    "        \n",
    "    def btn_clicked(self):\n",
    "        price = pybithumb.get_current_price(\"BTC\")\n",
    "        self.lineEdit.setText(str(price))\n",
    "        \n",
    "        \n",
    "        \n",
    "        \n",
    "app = QApplication(sys.argv) # 윈도우 창띄우기\n",
    "window = MyWindow()\n",
    "window.show()\n",
    "\n",
    "app.exec_()"
   ]
  },
  {
   "cell_type": "code",
   "execution_count": null,
   "id": "86cf6faf",
   "metadata": {},
   "outputs": [],
   "source": [
    "#단추를 클릭하면 가격 조회에서 윈도우에 출력하기\n",
    "\n",
    "# pip install pybithumb 빗섬에서 만든 api를 사용하기 위해 모듈 설치(처음 한번만 설치)\n",
    "\n",
    "import sys                           # 윈도우 시스템 접근\n",
    "from PyQt5.QtWidgets import *        # PyQt5 모듈 읽어오기\n",
    "from PyQt5 import uic                # Designer 로 만든 창을 사용만 하기\n",
    "import pybithumb\n",
    "\n",
    "form_class = uic.loadUiType(\"mywindow2.ui\")[0]  # Designer 로 만든 창 사용하기\n",
    "\n",
    "class MyWindow(QMainWindow, form_class):\n",
    "    def __init__(self):\n",
    "        super().__init__()\n",
    "        self.setupUi(self)\n",
    "        self.pushButton.clicked.connect(self.btn_clicked)\n",
    "\n",
    "        \n",
    "    def btn_clicked(self):\n",
    "        price = pybithumb.get_current_price(\"BTC\")\n",
    "        self.lineEdit_1.setText(str(price))\n",
    "        price = pybithumb.get_current_price(\"ETH\")\n",
    "        self.lineEdit_2.setText(str(price))\n",
    "        price = pybithumb.get_current_price(\"XRP\")\n",
    "        self.lineEdit_3.setText(str(price))\n",
    "        \n",
    "        \n",
    "        \n",
    "        \n",
    "        \n",
    "        \n",
    "app = QApplication(sys.argv) # 윈도우 창띄우기\n",
    "window = MyWindow()\n",
    "window.show()\n",
    "\n",
    "app.exec_()"
   ]
  },
  {
   "cell_type": "code",
   "execution_count": null,
   "id": "4cb593a2",
   "metadata": {},
   "outputs": [],
   "source": [
    "# 단추를 클릭하면 가격 조회해서 윈도우에 출력하기 - t선생님꺼\n",
    "\n",
    "# pip install pybithumb    빗섬에서 만든 api를 사용하기 위해 모듈 설치 (처음 한번만 설치)\n",
    "\n",
    "import sys                           # 윈도우 시스템 접근\n",
    "from PyQt5.QtWidgets import *        # PyQt5 모듈 읽어오기\n",
    "from PyQt5 import uic                # Designer 로 만든 창을 사용만 하기\n",
    "import pybithumb                     # api 모듈 읽어오기\n",
    "\n",
    "form_class = uic.loadUiType(\"mywindow2.ui\")[0]  # Designer 로 만든 창 사용하기\n",
    "\n",
    "class MyWindow(QMainWindow, form_class):\n",
    "    def __init__(self):\n",
    "        super().__init__()\n",
    "        self.setupUi(self)\n",
    "        self.pushButton.clicked.connect(self.btn_clicked)\n",
    "\n",
    "        \n",
    "    def btn_clicked(self):\n",
    "        price1 = pybithumb.get_current_price(\"BTC\")\n",
    "        self.lineEdit.setText(str(price1))\n",
    "        price2 = pybithumb.get_current_price(\"ETH\")\n",
    "        self.lineEdit_2.setText(str(price2))\n",
    "        price3 = pybithumb.get_current_price(\"XRP\")\n",
    "        self.lineEdit_3.setText(str(price3))\n",
    "        \n",
    "\n",
    "app = QApplication(sys.argv) # 윈도우 창띄우기\n",
    "window = MyWindow()\n",
    "window.show()\n",
    "\n",
    "app.exec_()"
   ]
  },
  {
   "cell_type": "code",
   "execution_count": null,
   "id": "2a207212",
   "metadata": {},
   "outputs": [],
   "source": [
    "import sys                           \n",
    "from PyQt5.QtWidgets import *        \n",
    "from PyQt5 import uic                \n",
    "import pybithumb                     \n",
    "from PyQt5.QtCore import *\n",
    "\n",
    "\n",
    "tickers = [\"BTC\", \"ETH\", \"XRP\" , \"ADA\"]\n",
    "\n",
    "form_class = uic.loadUiType(\"mywindow3.ui\")[0]  \n",
    "\n",
    "class MyWindow(QMainWindow, form_class):\n",
    "    def __init__(self):\n",
    "        super().__init__()\n",
    "        self.setupUi(self)\n",
    "        self.pushButton.clicked.connect(self.btn_clicked)\n",
    "\n",
    "        \n",
    "    def btn_clicked(self):\n",
    "        for i, ticker in enumerate(tickers):\n",
    "            item = QTableWidgetItem(ticker)\n",
    "            self.tableWidget.setItem(i, 0 , item)\n",
    "            \n",
    "            price = pybithumb.get_current_price(ticker)\n",
    "\n",
    "\n",
    "\n",
    "\n",
    "\n",
    "        \n",
    "\n",
    "app = QApplication(sys.argv) # 윈도우 창띄우기\n",
    "window = MyWindow()\n",
    "window.show()\n",
    "\n",
    "app.exec_()"
   ]
  },
  {
   "cell_type": "code",
   "execution_count": 1,
   "id": "6334064a",
   "metadata": {},
   "outputs": [
    {
     "data": {
      "text/plain": [
       "0"
      ]
     },
     "execution_count": 1,
     "metadata": {},
     "output_type": "execute_result"
    }
   ],
   "source": [
    "\n",
    "\n",
    "import sys                           \n",
    "from PyQt5.QtWidgets import *        \n",
    "from PyQt5 import uic                \n",
    "import pybithumb                     \n",
    "from PyQt5.QtCore import *\n",
    "\n",
    "\n",
    "tickers = [\"BTC\", \"ETH\", \"XRP\" , \"ADA\"]\n",
    "\n",
    "form_class = uic.loadUiType(\"mywindow3.ui\")[0]  \n",
    "\n",
    "class MyWindow(QMainWindow, form_class):\n",
    "    def __init__(self):\n",
    "        super().__init__()\n",
    "        self.setupUi(self)\n",
    "        self.pushButton.clicked.connect(self.btn_clicked)\n",
    "\n",
    "        \n",
    "    def btn_clicked(self):\n",
    "        for i, ticker in enumerate(tickers):\n",
    "            item = QTableWidgetItem(ticker)\n",
    "            self.tableWidget.setItem(i, 0 , item)\n",
    "\n",
    "            price = pybithumb.get_current_price(ticker)\n",
    "            self.tableWidget.setItem(i, 1 , QTableWidgetItem(str(price)))\n",
    "\n",
    "\n",
    "\n",
    "app = QApplication(sys.argv) # 윈도우 창띄우기\n",
    "window = MyWindow()\n",
    "window.show()\n",
    "\n",
    "app.exec_()"
   ]
  },
  {
   "cell_type": "code",
   "execution_count": 4,
   "id": "e293a7f2",
   "metadata": {},
   "outputs": [],
   "source": [
    "# pyinstaller 일반 파이썬 파일을 윈도우 실행 exe파일로 만들어 준다.       \n",
    "\n",
    "# 윈도우 앱만들기\n"
   ]
  },
  {
   "cell_type": "code",
   "execution_count": 3,
   "id": "ea645974",
   "metadata": {},
   "outputs": [
    {
     "name": "stdout",
     "output_type": "stream",
     "text": [
      "Collecting pyinstaller\n",
      "  Downloading pyinstaller-5.7.0-py3-none-win_amd64.whl (1.3 MB)\n",
      "     ---------------------------------------- 1.3/1.3 MB 8.9 MB/s eta 0:00:00\n",
      "Collecting pyinstaller-hooks-contrib>=2021.4\n",
      "  Downloading pyinstaller_hooks_contrib-2022.14-py2.py3-none-any.whl (252 kB)\n",
      "     -------------------------------------- 252.6/252.6 kB 7.8 MB/s eta 0:00:00\n",
      "Collecting pefile>=2022.5.30\n",
      "  Downloading pefile-2022.5.30.tar.gz (72 kB)\n",
      "     ---------------------------------------- 72.9/72.9 kB 3.9 MB/s eta 0:00:00\n",
      "  Preparing metadata (setup.py): started\n",
      "  Preparing metadata (setup.py): finished with status 'done'\n",
      "Collecting altgraph\n",
      "  Downloading altgraph-0.17.3-py2.py3-none-any.whl (21 kB)\n",
      "Requirement already satisfied: pywin32-ctypes>=0.2.0 in c:\\users\\ezen\\anaconda3\\lib\\site-packages (from pyinstaller) (0.2.0)\n",
      "Requirement already satisfied: setuptools>=42.0.0 in c:\\users\\ezen\\anaconda3\\lib\\site-packages (from pyinstaller) (63.4.1)\n",
      "Requirement already satisfied: future in c:\\users\\ezen\\anaconda3\\lib\\site-packages (from pefile>=2022.5.30->pyinstaller) (0.18.2)\n",
      "Building wheels for collected packages: pefile\n",
      "  Building wheel for pefile (setup.py): started\n",
      "  Building wheel for pefile (setup.py): finished with status 'done'\n",
      "  Created wheel for pefile: filename=pefile-2022.5.30-py3-none-any.whl size=69362 sha256=83e181a83dba3e96367f4ccad931f85f27eab9a96d97d54b91126e8c8d8bf392\n",
      "  Stored in directory: c:\\users\\ezen\\appdata\\local\\pip\\cache\\wheels\\f1\\fe\\01\\5536332fc49e010786c52886ac14f72073dd65fed3c3d8945c\n",
      "Successfully built pefile\n",
      "Installing collected packages: altgraph, pyinstaller-hooks-contrib, pefile, pyinstaller\n",
      "Successfully installed altgraph-0.17.3 pefile-2022.5.30 pyinstaller-5.7.0 pyinstaller-hooks-contrib-2022.14\n",
      "Note: you may need to restart the kernel to use updated packages.\n"
     ]
    }
   ],
   "source": [
    "pip install pyinstaller"
   ]
  },
  {
   "cell_type": "code",
   "execution_count": null,
   "id": "d6b5df7d",
   "metadata": {},
   "outputs": [],
   "source": []
  }
 ],
 "metadata": {
  "kernelspec": {
   "display_name": "Python 3 (ipykernel)",
   "language": "python",
   "name": "python3"
  },
  "language_info": {
   "codemirror_mode": {
    "name": "ipython",
    "version": 3
   },
   "file_extension": ".py",
   "mimetype": "text/x-python",
   "name": "python",
   "nbconvert_exporter": "python",
   "pygments_lexer": "ipython3",
   "version": "3.9.13"
  }
 },
 "nbformat": 4,
 "nbformat_minor": 5
}
